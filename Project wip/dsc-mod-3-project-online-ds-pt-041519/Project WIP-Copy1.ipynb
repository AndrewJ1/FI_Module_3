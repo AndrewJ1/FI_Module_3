{
 "cells": [
  {
   "cell_type": "markdown",
   "metadata": {},
   "source": [
    "# Hypothesis Testing Project"
   ]
  },
  {
   "cell_type": "markdown",
   "metadata": {
    "heading_collapsed": true
   },
   "source": [
    "# Introduction"
   ]
  },
  {
   "cell_type": "markdown",
   "metadata": {
    "hidden": true
   },
   "source": [
    "## The Project\n",
    "\n",
    "This project uses the Northwind database--a free, open-source dataset created by Microsoft containing data from a fictional company.\n",
    "\n",
    "The goal of this project is to gather information from a real-world database and use your knowledge of statistical analysis and hypothesis testing to generate analytical insights that can be of value to the company.\n",
    "\n",
    "### The Deliverables\n",
    "\n",
    "The goal of this project is to query the database to get the data needed to perform a statistical analysis.  In this statistical analysis, you'll need to perform a hypothesis test (or perhaps several) to answer the following question:\n",
    "\n",
    "**_Does discount amount have a statistically significant effect on the quantity of a product in an order? If so, at what level(s) of discount?_**\n",
    "\n",
    "In addition to answering this question with a hypothesis test, you will also need to come up with **_at least 3 other hypotheses to test on your own_**.  These can by anything that you think could be important information for the company.\n",
    "\n",
    "For this hypothesis, be sure to specify both the **_null hypothesis_** and the **_alternative hypothesis_** for your question.  You should also specify if this is one-tail or a two-tail test.\n"
   ]
  },
  {
   "cell_type": "markdown",
   "metadata": {
    "hidden": true
   },
   "source": [
    "## Methodology\n",
    "\n",
    "In this project I will use the Scientific Method. The step are as follows:\n",
    "\n",
    "### 1. Make an Observation\n",
    "\n",
    "The first step of the scientific method is to observe something that I want to test. This step involves exploring the data and looking for something that is worth testing. \n",
    "\n",
    "### 2. Examine the Research\n",
    "\n",
    "This means identifying any research that already exists which may help answer my question, directly or indirectly. For the purposes of this project, my research will be limited to investigating the \n",
    "\n",
    "### 3. Form a Hypothesis\n",
    "\n",
    "In this stage, I will formulate two hypotheses to test--your educated guess about the outcome  called the **_Alternative Hypothesis_**, while the opposite of it is called the **_Null Hypothesis_**.  This is where the language behind experimental design (and the idea of what you can actually **_prove_** using an experiment) gets a bit complicated--more on this below. \n",
    "\n",
    "### 4. Conduct an Experiment\n",
    "\n",
    "This step involves testing the hypothesis by gathering data from a well-structured experiment.  The experiment is strucutured to account for any mistakes and randomness that could lead to false signals. \n",
    "\n",
    "### 5. Analyze Experimental Results\n",
    "\n",
    "Here I will determine whether something that happened is **_statistically significant_** or not. \n",
    "\n",
    "### 6. Draw Conclusions\n",
    "\n",
    "In this final stage I will evaluate whether you believe the hypothesis was correct or not! THe analysis of the data will lead to one of two things: either **_reject the null hypothesis or fail to reject the null hypothesis_**.  \n",
    "\n",
    "source: Flatiron School\n",
    "\n",
    "<img src='./images/new_the-scientific-method.png' height=\"75%\" width=\"75%\">"
   ]
  },
  {
   "cell_type": "markdown",
   "metadata": {},
   "source": [
    "# Getting the Data"
   ]
  },
  {
   "cell_type": "markdown",
   "metadata": {},
   "source": [
    "The database contains sales data for the Northwind company. Northwind sells various food and beverage items, to customers in Europe and the Americas. The database is mapped out below in the Entity Relationship Diagram (ERD)\n",
    "\n",
    "<img src='./images/Northwind_ERD_updated.png' height=\"100%\" width=\"100%\">"
   ]
  },
  {
   "cell_type": "markdown",
   "metadata": {},
   "source": [
    "Inspecting the ERD gives me several leads of where to begin my investigation. Although this is a sample database it covers 3 key areas of a business: Products, Customers, and Employees. Even in these segments there are far questions than I can address in the project. I will \n",
    "\n",
    "#### 1. Discounts\n",
    "Do discounts have a statistically significant effect on the quantity of a product in an order?\n",
    "\n",
    "#### 2. Product Portfolio\n",
    "What are the drivers of Northwind's business. Is there any difference between product categories?\n",
    "\n",
    "#### 3. Customers\n",
    "Who are Northwind's customers? Is there a significant difference between regions?\n",
    "\n",
    "#### 4. Employees\n",
    "Who are Northwind's star sales performers? Does any sales center outperform?\n"
   ]
  },
  {
   "cell_type": "markdown",
   "metadata": {},
   "source": [
    "## Loading the Data\n",
    "\n",
    "First step is to load all the required libraries"
   ]
  },
  {
   "cell_type": "code",
   "execution_count": 17,
   "metadata": {},
   "outputs": [],
   "source": [
    "import sqlite3\n",
    "import pandas as pd\n",
    "import numpy as np\n",
    "import scipy.stats as stat\n",
    "import seaborn as sns\n",
    "import matplotlib.pyplot as plt\n",
    "\n",
    "sns.set_style('whitegrid')\n",
    "\n",
    "%config InlineBackend.figure_format = 'retina'\n",
    "%matplotlib inline"
   ]
  },
  {
   "cell_type": "markdown",
   "metadata": {},
   "source": [
    "Connect to the database"
   ]
  },
  {
   "cell_type": "code",
   "execution_count": 18,
   "metadata": {},
   "outputs": [],
   "source": [
    "conn = sqlite3.connect('Northwind_small.sqlite')\n",
    "cur = conn.cursor()"
   ]
  },
  {
   "cell_type": "markdown",
   "metadata": {},
   "source": [
    "Run a query to check the table names. They may differ from the ERD."
   ]
  },
  {
   "cell_type": "code",
   "execution_count": 20,
   "metadata": {
    "scrolled": true
   },
   "outputs": [
    {
     "name": "stdout",
     "output_type": "stream",
     "text": [
      "[('Employee',), ('Category',), ('Customer',), ('Shipper',), ('Supplier',), ('Order',), ('Product',), ('OrderDetail',), ('CustomerCustomerDemo',), ('CustomerDemographic',), ('Region',), ('Territory',), ('EmployeeTerritory',)]\n"
     ]
    }
   ],
   "source": [
    "cur.execute(\"SELECT name FROM sqlite_master WHERE type = 'table';\")\n",
    "print(cur.fetchall())"
   ]
  },
  {
   "cell_type": "markdown",
   "metadata": {},
   "source": [
    "# Hypothesis #1: Discounts"
   ]
  },
  {
   "cell_type": "markdown",
   "metadata": {},
   "source": [
    "## $H_{0}$ Null Hypothesis\n",
    "**Discounts have no effect on sales order quantity.**\n",
    "\n",
    "## $H_{1}$ Alternative Hypothesis\n",
    "**Discounts lead to an increase in sales order quantity**"
   ]
  },
  {
   "cell_type": "markdown",
   "metadata": {},
   "source": [
    "## Observation and Research"
   ]
  },
  {
   "cell_type": "markdown",
   "metadata": {},
   "source": [
    "Run a SQL query to select all data from the order details column. I am also adding some additional calculated columns for List Revenue (revenue before discount), Gross Revenue (after discount) Discount Value in $, and a boolean value for whether the line of the order has a discount or not."
   ]
  },
  {
   "cell_type": "code",
   "execution_count": 10,
   "metadata": {},
   "outputs": [
    {
     "data": {
      "text/html": [
       "<div>\n",
       "<style scoped>\n",
       "    .dataframe tbody tr th:only-of-type {\n",
       "        vertical-align: middle;\n",
       "    }\n",
       "\n",
       "    .dataframe tbody tr th {\n",
       "        vertical-align: top;\n",
       "    }\n",
       "\n",
       "    .dataframe thead th {\n",
       "        text-align: right;\n",
       "    }\n",
       "</style>\n",
       "<table border=\"1\" class=\"dataframe\">\n",
       "  <thead>\n",
       "    <tr style=\"text-align: right;\">\n",
       "      <th></th>\n",
       "      <th>Id</th>\n",
       "      <th>OrderId</th>\n",
       "      <th>ProductId</th>\n",
       "      <th>UnitPrice</th>\n",
       "      <th>Quantity</th>\n",
       "      <th>Discount</th>\n",
       "      <th>ListRev</th>\n",
       "      <th>GrossRev</th>\n",
       "      <th>DiscVal</th>\n",
       "      <th>Disc_0_1</th>\n",
       "    </tr>\n",
       "  </thead>\n",
       "  <tbody>\n",
       "    <tr>\n",
       "      <th>0</th>\n",
       "      <td>10248/11</td>\n",
       "      <td>10248</td>\n",
       "      <td>11</td>\n",
       "      <td>14.0</td>\n",
       "      <td>12</td>\n",
       "      <td>0.0</td>\n",
       "      <td>168.0</td>\n",
       "      <td>168.0</td>\n",
       "      <td>0.0</td>\n",
       "      <td>0</td>\n",
       "    </tr>\n",
       "    <tr>\n",
       "      <th>1</th>\n",
       "      <td>10248/42</td>\n",
       "      <td>10248</td>\n",
       "      <td>42</td>\n",
       "      <td>9.8</td>\n",
       "      <td>10</td>\n",
       "      <td>0.0</td>\n",
       "      <td>98.0</td>\n",
       "      <td>98.0</td>\n",
       "      <td>0.0</td>\n",
       "      <td>0</td>\n",
       "    </tr>\n",
       "    <tr>\n",
       "      <th>2</th>\n",
       "      <td>10248/72</td>\n",
       "      <td>10248</td>\n",
       "      <td>72</td>\n",
       "      <td>34.8</td>\n",
       "      <td>5</td>\n",
       "      <td>0.0</td>\n",
       "      <td>174.0</td>\n",
       "      <td>174.0</td>\n",
       "      <td>0.0</td>\n",
       "      <td>0</td>\n",
       "    </tr>\n",
       "    <tr>\n",
       "      <th>3</th>\n",
       "      <td>10249/14</td>\n",
       "      <td>10249</td>\n",
       "      <td>14</td>\n",
       "      <td>18.6</td>\n",
       "      <td>9</td>\n",
       "      <td>0.0</td>\n",
       "      <td>167.4</td>\n",
       "      <td>167.4</td>\n",
       "      <td>0.0</td>\n",
       "      <td>0</td>\n",
       "    </tr>\n",
       "    <tr>\n",
       "      <th>4</th>\n",
       "      <td>10249/51</td>\n",
       "      <td>10249</td>\n",
       "      <td>51</td>\n",
       "      <td>42.4</td>\n",
       "      <td>40</td>\n",
       "      <td>0.0</td>\n",
       "      <td>1696.0</td>\n",
       "      <td>1696.0</td>\n",
       "      <td>0.0</td>\n",
       "      <td>0</td>\n",
       "    </tr>\n",
       "  </tbody>\n",
       "</table>\n",
       "</div>"
      ],
      "text/plain": [
       "         Id  OrderId  ProductId  UnitPrice  Quantity  Discount  ListRev  \\\n",
       "0  10248/11    10248         11       14.0        12       0.0    168.0   \n",
       "1  10248/42    10248         42        9.8        10       0.0     98.0   \n",
       "2  10248/72    10248         72       34.8         5       0.0    174.0   \n",
       "3  10249/14    10249         14       18.6         9       0.0    167.4   \n",
       "4  10249/51    10249         51       42.4        40       0.0   1696.0   \n",
       "\n",
       "   GrossRev  DiscVal  Disc_0_1  \n",
       "0     168.0      0.0         0  \n",
       "1      98.0      0.0         0  \n",
       "2     174.0      0.0         0  \n",
       "3     167.4      0.0         0  \n",
       "4    1696.0      0.0         0  "
      ]
     },
     "execution_count": 10,
     "metadata": {},
     "output_type": "execute_result"
    }
   ],
   "source": [
    "cur.execute(\"\"\"SELECT *,\n",
    "                od.UnitPrice * od.Quantity AS 'ListRev',\n",
    "                od.UnitPrice * (1 - od.Discount) * od.Quantity AS 'GrossRev',\n",
    "                od.Discount * od.UnitPrice * od.Quantity AS 'DiscVal',\n",
    "                    CASE \n",
    "                    WHEN od.Discount == 0 THEN 0\n",
    "                    ELSE 1 \n",
    "                    END AS 'Disc_0_1'\n",
    "                FROM [OrderDetail] od;\"\"\")\n",
    "ord_det = pd.DataFrame(cur.fetchall())\n",
    "ord_det.columns = [i[0] for i in cur.description]\n",
    "ord_det.head(5)"
   ]
  },
  {
   "cell_type": "code",
   "execution_count": 21,
   "metadata": {},
   "outputs": [
    {
     "data": {
      "text/html": [
       "<div>\n",
       "<style scoped>\n",
       "    .dataframe tbody tr th:only-of-type {\n",
       "        vertical-align: middle;\n",
       "    }\n",
       "\n",
       "    .dataframe tbody tr th {\n",
       "        vertical-align: top;\n",
       "    }\n",
       "\n",
       "    .dataframe thead th {\n",
       "        text-align: right;\n",
       "    }\n",
       "</style>\n",
       "<table border=\"1\" class=\"dataframe\">\n",
       "  <thead>\n",
       "    <tr style=\"text-align: right;\">\n",
       "      <th></th>\n",
       "      <th>Id</th>\n",
       "      <th>OrderId</th>\n",
       "      <th>ProductId</th>\n",
       "      <th>UnitPrice</th>\n",
       "      <th>Quantity</th>\n",
       "      <th>Discount</th>\n",
       "      <th>Disc_0_1</th>\n",
       "    </tr>\n",
       "  </thead>\n",
       "  <tbody>\n",
       "    <tr>\n",
       "      <th>0</th>\n",
       "      <td>10248/11</td>\n",
       "      <td>10248</td>\n",
       "      <td>11</td>\n",
       "      <td>14.0</td>\n",
       "      <td>12</td>\n",
       "      <td>0.0</td>\n",
       "      <td>0</td>\n",
       "    </tr>\n",
       "    <tr>\n",
       "      <th>1</th>\n",
       "      <td>10248/42</td>\n",
       "      <td>10248</td>\n",
       "      <td>42</td>\n",
       "      <td>9.8</td>\n",
       "      <td>10</td>\n",
       "      <td>0.0</td>\n",
       "      <td>0</td>\n",
       "    </tr>\n",
       "    <tr>\n",
       "      <th>2</th>\n",
       "      <td>10248/72</td>\n",
       "      <td>10248</td>\n",
       "      <td>72</td>\n",
       "      <td>34.8</td>\n",
       "      <td>5</td>\n",
       "      <td>0.0</td>\n",
       "      <td>0</td>\n",
       "    </tr>\n",
       "    <tr>\n",
       "      <th>3</th>\n",
       "      <td>10249/14</td>\n",
       "      <td>10249</td>\n",
       "      <td>14</td>\n",
       "      <td>18.6</td>\n",
       "      <td>9</td>\n",
       "      <td>0.0</td>\n",
       "      <td>0</td>\n",
       "    </tr>\n",
       "    <tr>\n",
       "      <th>4</th>\n",
       "      <td>10249/51</td>\n",
       "      <td>10249</td>\n",
       "      <td>51</td>\n",
       "      <td>42.4</td>\n",
       "      <td>40</td>\n",
       "      <td>0.0</td>\n",
       "      <td>0</td>\n",
       "    </tr>\n",
       "  </tbody>\n",
       "</table>\n",
       "</div>"
      ],
      "text/plain": [
       "         Id  OrderId  ProductId  UnitPrice  Quantity  Discount  Disc_0_1\n",
       "0  10248/11    10248         11       14.0        12       0.0         0\n",
       "1  10248/42    10248         42        9.8        10       0.0         0\n",
       "2  10248/72    10248         72       34.8         5       0.0         0\n",
       "3  10249/14    10249         14       18.6         9       0.0         0\n",
       "4  10249/51    10249         51       42.4        40       0.0         0"
      ]
     },
     "execution_count": 21,
     "metadata": {},
     "output_type": "execute_result"
    }
   ],
   "source": [
    "cur.execute(\"\"\"SELECT *,\n",
    "                    CASE \n",
    "                    WHEN od.Discount == 0 THEN 0\n",
    "                    ELSE 1 \n",
    "                    END AS 'Disc_0_1'\n",
    "                FROM [OrderDetail] od;\"\"\")\n",
    "ord_det = pd.DataFrame(cur.fetchall())\n",
    "ord_det.columns = [i[0] for i in cur.description]\n",
    "ord_det.head(5)"
   ]
  },
  {
   "cell_type": "markdown",
   "metadata": {},
   "source": [
    "Inspect the distribution of discount levels visually, with a histogram. The majority of order lines have no discount. Discounts are fairly evenly spread, in 5% increments"
   ]
  },
  {
   "cell_type": "code",
   "execution_count": 5,
   "metadata": {
    "scrolled": false
   },
   "outputs": [
    {
     "data": {
      "image/png": "[encoded data removed]",
      "text/plain": [
       "<Figure size 360x360 with 1 Axes>"
      ]
     },
     "metadata": {
      "image/png": {
       "height": 302,
       "width": 322
      },
      "needs_background": "light"
     },
     "output_type": "display_data"
    }
   ],
   "source": [
    "ord_det.Discount.hist(figsize = (5,5));"
   ]
  },
  {
   "cell_type": "markdown",
   "metadata": {},
   "source": [
    "Since there are not that many levels of discount, I also inspect the count of each discount as a table."
   ]
  },
  {
   "cell_type": "code",
   "execution_count": 6,
   "metadata": {},
   "outputs": [
    {
     "data": {
      "text/plain": [
       "0.00    1317\n",
       "0.05     185\n",
       "0.10     173\n",
       "0.20     161\n",
       "0.15     157\n",
       "0.25     154\n",
       "0.03       3\n",
       "0.02       2\n",
       "0.01       1\n",
       "0.04       1\n",
       "0.06       1\n",
       "Name: Discount, dtype: int64"
      ]
     },
     "execution_count": 6,
     "metadata": {},
     "output_type": "execute_result"
    }
   ],
   "source": [
    "ord_det['Discount'].value_counts()"
   ]
  },
  {
   "cell_type": "markdown",
   "metadata": {},
   "source": [
    "Confirming the histogram that more than half have no discount, and discounts are evenly split at 5, 10, 15, 20, 25. \n",
    "There are some small discount levels with very quantities that don't show up on the histogram"
   ]
  },
  {
   "cell_type": "markdown",
   "metadata": {},
   "source": [
    "Further investigating the smallest distribution of discounts\n",
    "Filter on the discount level: 1%, 2%, 3%, 4%, 6%"
   ]
  },
  {
   "cell_type": "code",
   "execution_count": 7,
   "metadata": {
    "scrolled": false
   },
   "outputs": [
    {
     "data": {
      "text/html": [
       "<div>\n",
       "<style scoped>\n",
       "    .dataframe tbody tr th:only-of-type {\n",
       "        vertical-align: middle;\n",
       "    }\n",
       "\n",
       "    .dataframe tbody tr th {\n",
       "        vertical-align: top;\n",
       "    }\n",
       "\n",
       "    .dataframe thead th {\n",
       "        text-align: right;\n",
       "    }\n",
       "</style>\n",
       "<table border=\"1\" class=\"dataframe\">\n",
       "  <thead>\n",
       "    <tr style=\"text-align: right;\">\n",
       "      <th></th>\n",
       "      <th>Id</th>\n",
       "      <th>OrderId</th>\n",
       "      <th>ProductId</th>\n",
       "      <th>UnitPrice</th>\n",
       "      <th>Quantity</th>\n",
       "      <th>Discount</th>\n",
       "      <th>ListRev</th>\n",
       "      <th>GrossRev</th>\n",
       "      <th>DiscVal</th>\n",
       "      <th>Disc_0_1</th>\n",
       "    </tr>\n",
       "  </thead>\n",
       "  <tbody>\n",
       "    <tr>\n",
       "      <th>2133</th>\n",
       "      <td>11077/6</td>\n",
       "      <td>11077</td>\n",
       "      <td>6</td>\n",
       "      <td>25.00</td>\n",
       "      <td>1</td>\n",
       "      <td>0.02</td>\n",
       "      <td>25.00</td>\n",
       "      <td>24.5000</td>\n",
       "      <td>0.5000</td>\n",
       "      <td>1</td>\n",
       "    </tr>\n",
       "    <tr>\n",
       "      <th>2139</th>\n",
       "      <td>11077/14</td>\n",
       "      <td>11077</td>\n",
       "      <td>14</td>\n",
       "      <td>23.25</td>\n",
       "      <td>1</td>\n",
       "      <td>0.03</td>\n",
       "      <td>23.25</td>\n",
       "      <td>22.5525</td>\n",
       "      <td>0.6975</td>\n",
       "      <td>1</td>\n",
       "    </tr>\n",
       "    <tr>\n",
       "      <th>2140</th>\n",
       "      <td>11077/16</td>\n",
       "      <td>11077</td>\n",
       "      <td>16</td>\n",
       "      <td>17.45</td>\n",
       "      <td>2</td>\n",
       "      <td>0.03</td>\n",
       "      <td>34.90</td>\n",
       "      <td>33.8530</td>\n",
       "      <td>1.0470</td>\n",
       "      <td>1</td>\n",
       "    </tr>\n",
       "    <tr>\n",
       "      <th>2141</th>\n",
       "      <td>11077/20</td>\n",
       "      <td>11077</td>\n",
       "      <td>20</td>\n",
       "      <td>81.00</td>\n",
       "      <td>1</td>\n",
       "      <td>0.04</td>\n",
       "      <td>81.00</td>\n",
       "      <td>77.7600</td>\n",
       "      <td>3.2400</td>\n",
       "      <td>1</td>\n",
       "    </tr>\n",
       "    <tr>\n",
       "      <th>2146</th>\n",
       "      <td>11077/46</td>\n",
       "      <td>11077</td>\n",
       "      <td>46</td>\n",
       "      <td>12.00</td>\n",
       "      <td>3</td>\n",
       "      <td>0.02</td>\n",
       "      <td>36.00</td>\n",
       "      <td>35.2800</td>\n",
       "      <td>0.7200</td>\n",
       "      <td>1</td>\n",
       "    </tr>\n",
       "    <tr>\n",
       "      <th>2149</th>\n",
       "      <td>11077/60</td>\n",
       "      <td>11077</td>\n",
       "      <td>60</td>\n",
       "      <td>34.00</td>\n",
       "      <td>2</td>\n",
       "      <td>0.06</td>\n",
       "      <td>68.00</td>\n",
       "      <td>63.9200</td>\n",
       "      <td>4.0800</td>\n",
       "      <td>1</td>\n",
       "    </tr>\n",
       "    <tr>\n",
       "      <th>2150</th>\n",
       "      <td>11077/64</td>\n",
       "      <td>11077</td>\n",
       "      <td>64</td>\n",
       "      <td>33.25</td>\n",
       "      <td>2</td>\n",
       "      <td>0.03</td>\n",
       "      <td>66.50</td>\n",
       "      <td>64.5050</td>\n",
       "      <td>1.9950</td>\n",
       "      <td>1</td>\n",
       "    </tr>\n",
       "    <tr>\n",
       "      <th>2152</th>\n",
       "      <td>11077/73</td>\n",
       "      <td>11077</td>\n",
       "      <td>73</td>\n",
       "      <td>15.00</td>\n",
       "      <td>2</td>\n",
       "      <td>0.01</td>\n",
       "      <td>30.00</td>\n",
       "      <td>29.7000</td>\n",
       "      <td>0.3000</td>\n",
       "      <td>1</td>\n",
       "    </tr>\n",
       "  </tbody>\n",
       "</table>\n",
       "</div>"
      ],
      "text/plain": [
       "            Id  OrderId  ProductId  UnitPrice  Quantity  Discount  ListRev  \\\n",
       "2133   11077/6    11077          6      25.00         1      0.02    25.00   \n",
       "2139  11077/14    11077         14      23.25         1      0.03    23.25   \n",
       "2140  11077/16    11077         16      17.45         2      0.03    34.90   \n",
       "2141  11077/20    11077         20      81.00         1      0.04    81.00   \n",
       "2146  11077/46    11077         46      12.00         3      0.02    36.00   \n",
       "2149  11077/60    11077         60      34.00         2      0.06    68.00   \n",
       "2150  11077/64    11077         64      33.25         2      0.03    66.50   \n",
       "2152  11077/73    11077         73      15.00         2      0.01    30.00   \n",
       "\n",
       "      GrossRev  DiscVal  Disc_0_1  \n",
       "2133   24.5000   0.5000         1  \n",
       "2139   22.5525   0.6975         1  \n",
       "2140   33.8530   1.0470         1  \n",
       "2141   77.7600   3.2400         1  \n",
       "2146   35.2800   0.7200         1  \n",
       "2149   63.9200   4.0800         1  \n",
       "2150   64.5050   1.9950         1  \n",
       "2152   29.7000   0.3000         1  "
      ]
     },
     "execution_count": 7,
     "metadata": {},
     "output_type": "execute_result"
    }
   ],
   "source": [
    "ord_det.loc[(ord_det['Discount'] <= 0.06) & (ord_det['Discount'] != 0.05) & (ord_det['Discount'] != 0.00)]"
   ]
  },
  {
   "cell_type": "markdown",
   "metadata": {},
   "source": [
    "That's strange they all have the same order number. Let's look at the total order to see if that gives us any clues"
   ]
  },
  {
   "cell_type": "code",
   "execution_count": 8,
   "metadata": {},
   "outputs": [
    {
     "data": {
      "text/html": [
       "<div>\n",
       "<style scoped>\n",
       "    .dataframe tbody tr th:only-of-type {\n",
       "        vertical-align: middle;\n",
       "    }\n",
       "\n",
       "    .dataframe tbody tr th {\n",
       "        vertical-align: top;\n",
       "    }\n",
       "\n",
       "    .dataframe thead th {\n",
       "        text-align: right;\n",
       "    }\n",
       "</style>\n",
       "<table border=\"1\" class=\"dataframe\">\n",
       "  <thead>\n",
       "    <tr style=\"text-align: right;\">\n",
       "      <th></th>\n",
       "      <th>Id</th>\n",
       "      <th>OrderId</th>\n",
       "      <th>ProductId</th>\n",
       "      <th>UnitPrice</th>\n",
       "      <th>Quantity</th>\n",
       "      <th>Discount</th>\n",
       "      <th>ListRev</th>\n",
       "      <th>GrossRev</th>\n",
       "      <th>DiscVal</th>\n",
       "      <th>Disc_0_1</th>\n",
       "    </tr>\n",
       "  </thead>\n",
       "  <tbody>\n",
       "    <tr>\n",
       "      <th>2130</th>\n",
       "      <td>11077/2</td>\n",
       "      <td>11077</td>\n",
       "      <td>2</td>\n",
       "      <td>19.00</td>\n",
       "      <td>24</td>\n",
       "      <td>0.20</td>\n",
       "      <td>456.00</td>\n",
       "      <td>364.8000</td>\n",
       "      <td>91.2000</td>\n",
       "      <td>1</td>\n",
       "    </tr>\n",
       "    <tr>\n",
       "      <th>2135</th>\n",
       "      <td>11077/8</td>\n",
       "      <td>11077</td>\n",
       "      <td>8</td>\n",
       "      <td>40.00</td>\n",
       "      <td>2</td>\n",
       "      <td>0.10</td>\n",
       "      <td>80.00</td>\n",
       "      <td>72.0000</td>\n",
       "      <td>8.0000</td>\n",
       "      <td>1</td>\n",
       "    </tr>\n",
       "    <tr>\n",
       "      <th>2149</th>\n",
       "      <td>11077/60</td>\n",
       "      <td>11077</td>\n",
       "      <td>60</td>\n",
       "      <td>34.00</td>\n",
       "      <td>2</td>\n",
       "      <td>0.06</td>\n",
       "      <td>68.00</td>\n",
       "      <td>63.9200</td>\n",
       "      <td>4.0800</td>\n",
       "      <td>1</td>\n",
       "    </tr>\n",
       "    <tr>\n",
       "      <th>2137</th>\n",
       "      <td>11077/12</td>\n",
       "      <td>11077</td>\n",
       "      <td>12</td>\n",
       "      <td>38.00</td>\n",
       "      <td>2</td>\n",
       "      <td>0.05</td>\n",
       "      <td>76.00</td>\n",
       "      <td>72.2000</td>\n",
       "      <td>3.8000</td>\n",
       "      <td>1</td>\n",
       "    </tr>\n",
       "    <tr>\n",
       "      <th>2144</th>\n",
       "      <td>11077/39</td>\n",
       "      <td>11077</td>\n",
       "      <td>39</td>\n",
       "      <td>18.00</td>\n",
       "      <td>2</td>\n",
       "      <td>0.05</td>\n",
       "      <td>36.00</td>\n",
       "      <td>34.2000</td>\n",
       "      <td>1.8000</td>\n",
       "      <td>1</td>\n",
       "    </tr>\n",
       "    <tr>\n",
       "      <th>2134</th>\n",
       "      <td>11077/7</td>\n",
       "      <td>11077</td>\n",
       "      <td>7</td>\n",
       "      <td>30.00</td>\n",
       "      <td>1</td>\n",
       "      <td>0.05</td>\n",
       "      <td>30.00</td>\n",
       "      <td>28.5000</td>\n",
       "      <td>1.5000</td>\n",
       "      <td>1</td>\n",
       "    </tr>\n",
       "    <tr>\n",
       "      <th>2141</th>\n",
       "      <td>11077/20</td>\n",
       "      <td>11077</td>\n",
       "      <td>20</td>\n",
       "      <td>81.00</td>\n",
       "      <td>1</td>\n",
       "      <td>0.04</td>\n",
       "      <td>81.00</td>\n",
       "      <td>77.7600</td>\n",
       "      <td>3.2400</td>\n",
       "      <td>1</td>\n",
       "    </tr>\n",
       "    <tr>\n",
       "      <th>2140</th>\n",
       "      <td>11077/16</td>\n",
       "      <td>11077</td>\n",
       "      <td>16</td>\n",
       "      <td>17.45</td>\n",
       "      <td>2</td>\n",
       "      <td>0.03</td>\n",
       "      <td>34.90</td>\n",
       "      <td>33.8530</td>\n",
       "      <td>1.0470</td>\n",
       "      <td>1</td>\n",
       "    </tr>\n",
       "    <tr>\n",
       "      <th>2150</th>\n",
       "      <td>11077/64</td>\n",
       "      <td>11077</td>\n",
       "      <td>64</td>\n",
       "      <td>33.25</td>\n",
       "      <td>2</td>\n",
       "      <td>0.03</td>\n",
       "      <td>66.50</td>\n",
       "      <td>64.5050</td>\n",
       "      <td>1.9950</td>\n",
       "      <td>1</td>\n",
       "    </tr>\n",
       "    <tr>\n",
       "      <th>2139</th>\n",
       "      <td>11077/14</td>\n",
       "      <td>11077</td>\n",
       "      <td>14</td>\n",
       "      <td>23.25</td>\n",
       "      <td>1</td>\n",
       "      <td>0.03</td>\n",
       "      <td>23.25</td>\n",
       "      <td>22.5525</td>\n",
       "      <td>0.6975</td>\n",
       "      <td>1</td>\n",
       "    </tr>\n",
       "    <tr>\n",
       "      <th>2146</th>\n",
       "      <td>11077/46</td>\n",
       "      <td>11077</td>\n",
       "      <td>46</td>\n",
       "      <td>12.00</td>\n",
       "      <td>3</td>\n",
       "      <td>0.02</td>\n",
       "      <td>36.00</td>\n",
       "      <td>35.2800</td>\n",
       "      <td>0.7200</td>\n",
       "      <td>1</td>\n",
       "    </tr>\n",
       "    <tr>\n",
       "      <th>2133</th>\n",
       "      <td>11077/6</td>\n",
       "      <td>11077</td>\n",
       "      <td>6</td>\n",
       "      <td>25.00</td>\n",
       "      <td>1</td>\n",
       "      <td>0.02</td>\n",
       "      <td>25.00</td>\n",
       "      <td>24.5000</td>\n",
       "      <td>0.5000</td>\n",
       "      <td>1</td>\n",
       "    </tr>\n",
       "    <tr>\n",
       "      <th>2152</th>\n",
       "      <td>11077/73</td>\n",
       "      <td>11077</td>\n",
       "      <td>73</td>\n",
       "      <td>15.00</td>\n",
       "      <td>2</td>\n",
       "      <td>0.01</td>\n",
       "      <td>30.00</td>\n",
       "      <td>29.7000</td>\n",
       "      <td>0.3000</td>\n",
       "      <td>1</td>\n",
       "    </tr>\n",
       "    <tr>\n",
       "      <th>2131</th>\n",
       "      <td>11077/3</td>\n",
       "      <td>11077</td>\n",
       "      <td>3</td>\n",
       "      <td>10.00</td>\n",
       "      <td>4</td>\n",
       "      <td>0.00</td>\n",
       "      <td>40.00</td>\n",
       "      <td>40.0000</td>\n",
       "      <td>0.0000</td>\n",
       "      <td>0</td>\n",
       "    </tr>\n",
       "    <tr>\n",
       "      <th>2138</th>\n",
       "      <td>11077/13</td>\n",
       "      <td>11077</td>\n",
       "      <td>13</td>\n",
       "      <td>6.00</td>\n",
       "      <td>4</td>\n",
       "      <td>0.00</td>\n",
       "      <td>24.00</td>\n",
       "      <td>24.0000</td>\n",
       "      <td>0.0000</td>\n",
       "      <td>0</td>\n",
       "    </tr>\n",
       "    <tr>\n",
       "      <th>2153</th>\n",
       "      <td>11077/75</td>\n",
       "      <td>11077</td>\n",
       "      <td>75</td>\n",
       "      <td>7.75</td>\n",
       "      <td>4</td>\n",
       "      <td>0.00</td>\n",
       "      <td>31.00</td>\n",
       "      <td>31.0000</td>\n",
       "      <td>0.0000</td>\n",
       "      <td>0</td>\n",
       "    </tr>\n",
       "    <tr>\n",
       "      <th>2145</th>\n",
       "      <td>11077/41</td>\n",
       "      <td>11077</td>\n",
       "      <td>41</td>\n",
       "      <td>9.65</td>\n",
       "      <td>3</td>\n",
       "      <td>0.00</td>\n",
       "      <td>28.95</td>\n",
       "      <td>28.9500</td>\n",
       "      <td>0.0000</td>\n",
       "      <td>0</td>\n",
       "    </tr>\n",
       "    <tr>\n",
       "      <th>2142</th>\n",
       "      <td>11077/23</td>\n",
       "      <td>11077</td>\n",
       "      <td>23</td>\n",
       "      <td>9.00</td>\n",
       "      <td>2</td>\n",
       "      <td>0.00</td>\n",
       "      <td>18.00</td>\n",
       "      <td>18.0000</td>\n",
       "      <td>0.0000</td>\n",
       "      <td>0</td>\n",
       "    </tr>\n",
       "    <tr>\n",
       "      <th>2147</th>\n",
       "      <td>11077/52</td>\n",
       "      <td>11077</td>\n",
       "      <td>52</td>\n",
       "      <td>7.00</td>\n",
       "      <td>2</td>\n",
       "      <td>0.00</td>\n",
       "      <td>14.00</td>\n",
       "      <td>14.0000</td>\n",
       "      <td>0.0000</td>\n",
       "      <td>0</td>\n",
       "    </tr>\n",
       "    <tr>\n",
       "      <th>2148</th>\n",
       "      <td>11077/55</td>\n",
       "      <td>11077</td>\n",
       "      <td>55</td>\n",
       "      <td>24.00</td>\n",
       "      <td>2</td>\n",
       "      <td>0.00</td>\n",
       "      <td>48.00</td>\n",
       "      <td>48.0000</td>\n",
       "      <td>0.0000</td>\n",
       "      <td>0</td>\n",
       "    </tr>\n",
       "    <tr>\n",
       "      <th>2154</th>\n",
       "      <td>11077/77</td>\n",
       "      <td>11077</td>\n",
       "      <td>77</td>\n",
       "      <td>13.00</td>\n",
       "      <td>2</td>\n",
       "      <td>0.00</td>\n",
       "      <td>26.00</td>\n",
       "      <td>26.0000</td>\n",
       "      <td>0.0000</td>\n",
       "      <td>0</td>\n",
       "    </tr>\n",
       "    <tr>\n",
       "      <th>2132</th>\n",
       "      <td>11077/4</td>\n",
       "      <td>11077</td>\n",
       "      <td>4</td>\n",
       "      <td>22.00</td>\n",
       "      <td>1</td>\n",
       "      <td>0.00</td>\n",
       "      <td>22.00</td>\n",
       "      <td>22.0000</td>\n",
       "      <td>0.0000</td>\n",
       "      <td>0</td>\n",
       "    </tr>\n",
       "    <tr>\n",
       "      <th>2136</th>\n",
       "      <td>11077/10</td>\n",
       "      <td>11077</td>\n",
       "      <td>10</td>\n",
       "      <td>31.00</td>\n",
       "      <td>1</td>\n",
       "      <td>0.00</td>\n",
       "      <td>31.00</td>\n",
       "      <td>31.0000</td>\n",
       "      <td>0.0000</td>\n",
       "      <td>0</td>\n",
       "    </tr>\n",
       "    <tr>\n",
       "      <th>2143</th>\n",
       "      <td>11077/32</td>\n",
       "      <td>11077</td>\n",
       "      <td>32</td>\n",
       "      <td>32.00</td>\n",
       "      <td>1</td>\n",
       "      <td>0.00</td>\n",
       "      <td>32.00</td>\n",
       "      <td>32.0000</td>\n",
       "      <td>0.0000</td>\n",
       "      <td>0</td>\n",
       "    </tr>\n",
       "    <tr>\n",
       "      <th>2151</th>\n",
       "      <td>11077/66</td>\n",
       "      <td>11077</td>\n",
       "      <td>66</td>\n",
       "      <td>17.00</td>\n",
       "      <td>1</td>\n",
       "      <td>0.00</td>\n",
       "      <td>17.00</td>\n",
       "      <td>17.0000</td>\n",
       "      <td>0.0000</td>\n",
       "      <td>0</td>\n",
       "    </tr>\n",
       "  </tbody>\n",
       "</table>\n",
       "</div>"
      ],
      "text/plain": [
       "            Id  OrderId  ProductId  UnitPrice  Quantity  Discount  ListRev  \\\n",
       "2130   11077/2    11077          2      19.00        24      0.20   456.00   \n",
       "2135   11077/8    11077          8      40.00         2      0.10    80.00   \n",
       "2149  11077/60    11077         60      34.00         2      0.06    68.00   \n",
       "2137  11077/12    11077         12      38.00         2      0.05    76.00   \n",
       "2144  11077/39    11077         39      18.00         2      0.05    36.00   \n",
       "2134   11077/7    11077          7      30.00         1      0.05    30.00   \n",
       "2141  11077/20    11077         20      81.00         1      0.04    81.00   \n",
       "2140  11077/16    11077         16      17.45         2      0.03    34.90   \n",
       "2150  11077/64    11077         64      33.25         2      0.03    66.50   \n",
       "2139  11077/14    11077         14      23.25         1      0.03    23.25   \n",
       "2146  11077/46    11077         46      12.00         3      0.02    36.00   \n",
       "2133   11077/6    11077          6      25.00         1      0.02    25.00   \n",
       "2152  11077/73    11077         73      15.00         2      0.01    30.00   \n",
       "2131   11077/3    11077          3      10.00         4      0.00    40.00   \n",
       "2138  11077/13    11077         13       6.00         4      0.00    24.00   \n",
       "2153  11077/75    11077         75       7.75         4      0.00    31.00   \n",
       "2145  11077/41    11077         41       9.65         3      0.00    28.95   \n",
       "2142  11077/23    11077         23       9.00         2      0.00    18.00   \n",
       "2147  11077/52    11077         52       7.00         2      0.00    14.00   \n",
       "2148  11077/55    11077         55      24.00         2      0.00    48.00   \n",
       "2154  11077/77    11077         77      13.00         2      0.00    26.00   \n",
       "2132   11077/4    11077          4      22.00         1      0.00    22.00   \n",
       "2136  11077/10    11077         10      31.00         1      0.00    31.00   \n",
       "2143  11077/32    11077         32      32.00         1      0.00    32.00   \n",
       "2151  11077/66    11077         66      17.00         1      0.00    17.00   \n",
       "\n",
       "      GrossRev  DiscVal  Disc_0_1  \n",
       "2130  364.8000  91.2000         1  \n",
       "2135   72.0000   8.0000         1  \n",
       "2149   63.9200   4.0800         1  \n",
       "2137   72.2000   3.8000         1  \n",
       "2144   34.2000   1.8000         1  \n",
       "2134   28.5000   1.5000         1  \n",
       "2141   77.7600   3.2400         1  \n",
       "2140   33.8530   1.0470         1  \n",
       "2150   64.5050   1.9950         1  \n",
       "2139   22.5525   0.6975         1  \n",
       "2146   35.2800   0.7200         1  \n",
       "2133   24.5000   0.5000         1  \n",
       "2152   29.7000   0.3000         1  \n",
       "2131   40.0000   0.0000         0  \n",
       "2138   24.0000   0.0000         0  \n",
       "2153   31.0000   0.0000         0  \n",
       "2145   28.9500   0.0000         0  \n",
       "2142   18.0000   0.0000         0  \n",
       "2147   14.0000   0.0000         0  \n",
       "2148   48.0000   0.0000         0  \n",
       "2154   26.0000   0.0000         0  \n",
       "2132   22.0000   0.0000         0  \n",
       "2136   31.0000   0.0000         0  \n",
       "2143   32.0000   0.0000         0  \n",
       "2151   17.0000   0.0000         0  "
      ]
     },
     "execution_count": 8,
     "metadata": {},
     "output_type": "execute_result"
    }
   ],
   "source": [
    "ord_11077 = ord_det[(ord_det['OrderId'] == 11077)]\n",
    "ord_11077.sort_values(by=['Discount', 'Quantity'], ascending=False)"
   ]
  },
  {
   "cell_type": "markdown",
   "metadata": {},
   "source": [
    "Nothing in this order jumps out as unusual, how about by product and Category?"
   ]
  },
  {
   "cell_type": "code",
   "execution_count": 9,
   "metadata": {},
   "outputs": [
    {
     "data": {
      "text/html": [
       "<div>\n",
       "<style scoped>\n",
       "    .dataframe tbody tr th:only-of-type {\n",
       "        vertical-align: middle;\n",
       "    }\n",
       "\n",
       "    .dataframe tbody tr th {\n",
       "        vertical-align: top;\n",
       "    }\n",
       "\n",
       "    .dataframe thead th {\n",
       "        text-align: right;\n",
       "    }\n",
       "</style>\n",
       "<table border=\"1\" class=\"dataframe\">\n",
       "  <thead>\n",
       "    <tr style=\"text-align: right;\">\n",
       "      <th></th>\n",
       "      <th>OrderId</th>\n",
       "      <th>ProductId</th>\n",
       "      <th>UnitPrice</th>\n",
       "      <th>Quantity</th>\n",
       "      <th>Discount</th>\n",
       "      <th>ProductName</th>\n",
       "      <th>CategoryId</th>\n",
       "      <th>CategoryName</th>\n",
       "    </tr>\n",
       "  </thead>\n",
       "  <tbody>\n",
       "    <tr>\n",
       "      <th>0</th>\n",
       "      <td>11077</td>\n",
       "      <td>6</td>\n",
       "      <td>25.00</td>\n",
       "      <td>1</td>\n",
       "      <td>0.02</td>\n",
       "      <td>Grandma's Boysenberry Spread</td>\n",
       "      <td>2</td>\n",
       "      <td>Condiments</td>\n",
       "    </tr>\n",
       "    <tr>\n",
       "      <th>2</th>\n",
       "      <td>11077</td>\n",
       "      <td>16</td>\n",
       "      <td>17.45</td>\n",
       "      <td>2</td>\n",
       "      <td>0.03</td>\n",
       "      <td>Pavlova</td>\n",
       "      <td>3</td>\n",
       "      <td>Confections</td>\n",
       "    </tr>\n",
       "    <tr>\n",
       "      <th>3</th>\n",
       "      <td>11077</td>\n",
       "      <td>20</td>\n",
       "      <td>81.00</td>\n",
       "      <td>1</td>\n",
       "      <td>0.04</td>\n",
       "      <td>Sir Rodney's Marmalade</td>\n",
       "      <td>3</td>\n",
       "      <td>Confections</td>\n",
       "    </tr>\n",
       "    <tr>\n",
       "      <th>5</th>\n",
       "      <td>11077</td>\n",
       "      <td>60</td>\n",
       "      <td>34.00</td>\n",
       "      <td>2</td>\n",
       "      <td>0.06</td>\n",
       "      <td>Camembert Pierrot</td>\n",
       "      <td>4</td>\n",
       "      <td>Dairy Products</td>\n",
       "    </tr>\n",
       "    <tr>\n",
       "      <th>6</th>\n",
       "      <td>11077</td>\n",
       "      <td>64</td>\n",
       "      <td>33.25</td>\n",
       "      <td>2</td>\n",
       "      <td>0.03</td>\n",
       "      <td>Wimmers gute Semmelknödel</td>\n",
       "      <td>5</td>\n",
       "      <td>Grains/Cereals</td>\n",
       "    </tr>\n",
       "    <tr>\n",
       "      <th>1</th>\n",
       "      <td>11077</td>\n",
       "      <td>14</td>\n",
       "      <td>23.25</td>\n",
       "      <td>1</td>\n",
       "      <td>0.03</td>\n",
       "      <td>Tofu</td>\n",
       "      <td>7</td>\n",
       "      <td>Produce</td>\n",
       "    </tr>\n",
       "    <tr>\n",
       "      <th>4</th>\n",
       "      <td>11077</td>\n",
       "      <td>46</td>\n",
       "      <td>12.00</td>\n",
       "      <td>3</td>\n",
       "      <td>0.02</td>\n",
       "      <td>Spegesild</td>\n",
       "      <td>8</td>\n",
       "      <td>Seafood</td>\n",
       "    </tr>\n",
       "    <tr>\n",
       "      <th>7</th>\n",
       "      <td>11077</td>\n",
       "      <td>73</td>\n",
       "      <td>15.00</td>\n",
       "      <td>2</td>\n",
       "      <td>0.01</td>\n",
       "      <td>Röd Kaviar</td>\n",
       "      <td>8</td>\n",
       "      <td>Seafood</td>\n",
       "    </tr>\n",
       "  </tbody>\n",
       "</table>\n",
       "</div>"
      ],
      "text/plain": [
       "   OrderId  ProductId  UnitPrice  Quantity  Discount  \\\n",
       "0    11077          6      25.00         1      0.02   \n",
       "2    11077         16      17.45         2      0.03   \n",
       "3    11077         20      81.00         1      0.04   \n",
       "5    11077         60      34.00         2      0.06   \n",
       "6    11077         64      33.25         2      0.03   \n",
       "1    11077         14      23.25         1      0.03   \n",
       "4    11077         46      12.00         3      0.02   \n",
       "7    11077         73      15.00         2      0.01   \n",
       "\n",
       "                    ProductName  CategoryId    CategoryName  \n",
       "0  Grandma's Boysenberry Spread           2      Condiments  \n",
       "2                       Pavlova           3     Confections  \n",
       "3        Sir Rodney's Marmalade           3     Confections  \n",
       "5             Camembert Pierrot           4  Dairy Products  \n",
       "6     Wimmers gute Semmelknödel           5  Grains/Cereals  \n",
       "1                          Tofu           7         Produce  \n",
       "4                     Spegesild           8         Seafood  \n",
       "7                    Röd Kaviar           8         Seafood  "
      ]
     },
     "execution_count": 9,
     "metadata": {},
     "output_type": "execute_result"
    }
   ],
   "source": [
    "cur.execute(\"\"\"SELECT OrderId, ProductId, od.UnitPrice, Quantity, Discount,\n",
    "                ProductName, CategoryId,\n",
    "                CategoryName\n",
    "                FROM [OrderDetail] od\n",
    "                JOIN [Product] p\n",
    "                ON od.ProductId = p.Id\n",
    "                JOIN Category c\n",
    "                ON c.Id = p.CategoryId\n",
    "                WHERE OrderId == '11077' \n",
    "                AND Discount >= '0.01' AND Discount <= '0.06' AND Discount != '0.05' \"\"\");\n",
    "                      \n",
    "what_prod_df = pd.DataFrame(cur.fetchall())\n",
    "what_prod_df.columns = [i[0] for i in cur.description]\n",
    "what_prod_df.sort_values(by=['CategoryName'])"
   ]
  },
  {
   "cell_type": "markdown",
   "metadata": {},
   "source": [
    "The order covers multiple catageories and has different discounts within each. \n",
    "Let's see who placed the order, and we'll follow up with a question to them."
   ]
  },
  {
   "cell_type": "code",
   "execution_count": 10,
   "metadata": {},
   "outputs": [
    {
     "data": {
      "text/html": [
       "<div>\n",
       "<style scoped>\n",
       "    .dataframe tbody tr th:only-of-type {\n",
       "        vertical-align: middle;\n",
       "    }\n",
       "\n",
       "    .dataframe tbody tr th {\n",
       "        vertical-align: top;\n",
       "    }\n",
       "\n",
       "    .dataframe thead th {\n",
       "        text-align: right;\n",
       "    }\n",
       "</style>\n",
       "<table border=\"1\" class=\"dataframe\">\n",
       "  <thead>\n",
       "    <tr style=\"text-align: right;\">\n",
       "      <th></th>\n",
       "      <th>OrderId</th>\n",
       "      <th>FirstName</th>\n",
       "      <th>LastName</th>\n",
       "      <th>Title</th>\n",
       "      <th>City</th>\n",
       "      <th>Country</th>\n",
       "    </tr>\n",
       "  </thead>\n",
       "  <tbody>\n",
       "    <tr>\n",
       "      <th>0</th>\n",
       "      <td>11077</td>\n",
       "      <td>Nancy</td>\n",
       "      <td>Davolio</td>\n",
       "      <td>Sales Representative</td>\n",
       "      <td>Seattle</td>\n",
       "      <td>USA</td>\n",
       "    </tr>\n",
       "  </tbody>\n",
       "</table>\n",
       "</div>"
      ],
      "text/plain": [
       "   OrderId FirstName LastName                 Title     City Country\n",
       "0    11077     Nancy  Davolio  Sales Representative  Seattle     USA"
      ]
     },
     "execution_count": 10,
     "metadata": {},
     "output_type": "execute_result"
    }
   ],
   "source": [
    "cur.execute(\"\"\"SELECT DISTINCT OrderId,\n",
    "                FirstName, LastName, Title, City, Country\n",
    "                FROM [OrderDetail] od\n",
    "                LEFT JOIN [Order] o\n",
    "                ON od.OrderId = o.Id\n",
    "                LEFT JOIN Employee e\n",
    "                ON o.EmployeeId = e.Id\n",
    "                WHERE OrderId == '11077' \"\"\");\n",
    "                      \n",
    "Who_df = pd.DataFrame(cur.fetchall())\n",
    "Who_df.columns = [i[0] for i in cur.description]\n",
    "Who_df"
   ]
  },
  {
   "cell_type": "markdown",
   "metadata": {},
   "source": [
    "Although this is outside of my research. I do have a follow up question for Nancy Davolio. **Why does this order have unusual discounts?**"
   ]
  },
  {
   "cell_type": "markdown",
   "metadata": {},
   "source": [
    "As there are not a lot of these 'rogue' discounts. I'm going to include them with the lowest discount level of 5%. \n",
    "Query the database and create a new column that groups the discounts in 5% increments. (Only changing 1,2,3,4,6%)"
   ]
  },
  {
   "cell_type": "code",
   "execution_count": 11,
   "metadata": {},
   "outputs": [
    {
     "data": {
      "text/html": [
       "<div>\n",
       "<style scoped>\n",
       "    .dataframe tbody tr th:only-of-type {\n",
       "        vertical-align: middle;\n",
       "    }\n",
       "\n",
       "    .dataframe tbody tr th {\n",
       "        vertical-align: top;\n",
       "    }\n",
       "\n",
       "    .dataframe thead th {\n",
       "        text-align: right;\n",
       "    }\n",
       "</style>\n",
       "<table border=\"1\" class=\"dataframe\">\n",
       "  <thead>\n",
       "    <tr style=\"text-align: right;\">\n",
       "      <th></th>\n",
       "      <th>Id</th>\n",
       "      <th>OrderId</th>\n",
       "      <th>ProductId</th>\n",
       "      <th>UnitPrice</th>\n",
       "      <th>Quantity</th>\n",
       "      <th>Discount</th>\n",
       "      <th>ListRev</th>\n",
       "      <th>GrossRev</th>\n",
       "      <th>DiscVal</th>\n",
       "      <th>Disc_0_1</th>\n",
       "      <th>Disc_Group</th>\n",
       "    </tr>\n",
       "  </thead>\n",
       "  <tbody>\n",
       "    <tr>\n",
       "      <th>0</th>\n",
       "      <td>10248/11</td>\n",
       "      <td>10248</td>\n",
       "      <td>11</td>\n",
       "      <td>14.0</td>\n",
       "      <td>12</td>\n",
       "      <td>0.00</td>\n",
       "      <td>168.0</td>\n",
       "      <td>168.0</td>\n",
       "      <td>0.0</td>\n",
       "      <td>0</td>\n",
       "      <td>0.00</td>\n",
       "    </tr>\n",
       "    <tr>\n",
       "      <th>1</th>\n",
       "      <td>10248/42</td>\n",
       "      <td>10248</td>\n",
       "      <td>42</td>\n",
       "      <td>9.8</td>\n",
       "      <td>10</td>\n",
       "      <td>0.00</td>\n",
       "      <td>98.0</td>\n",
       "      <td>98.0</td>\n",
       "      <td>0.0</td>\n",
       "      <td>0</td>\n",
       "      <td>0.00</td>\n",
       "    </tr>\n",
       "    <tr>\n",
       "      <th>2</th>\n",
       "      <td>10248/72</td>\n",
       "      <td>10248</td>\n",
       "      <td>72</td>\n",
       "      <td>34.8</td>\n",
       "      <td>5</td>\n",
       "      <td>0.00</td>\n",
       "      <td>174.0</td>\n",
       "      <td>174.0</td>\n",
       "      <td>0.0</td>\n",
       "      <td>0</td>\n",
       "      <td>0.00</td>\n",
       "    </tr>\n",
       "    <tr>\n",
       "      <th>3</th>\n",
       "      <td>10249/14</td>\n",
       "      <td>10249</td>\n",
       "      <td>14</td>\n",
       "      <td>18.6</td>\n",
       "      <td>9</td>\n",
       "      <td>0.00</td>\n",
       "      <td>167.4</td>\n",
       "      <td>167.4</td>\n",
       "      <td>0.0</td>\n",
       "      <td>0</td>\n",
       "      <td>0.00</td>\n",
       "    </tr>\n",
       "    <tr>\n",
       "      <th>4</th>\n",
       "      <td>10249/51</td>\n",
       "      <td>10249</td>\n",
       "      <td>51</td>\n",
       "      <td>42.4</td>\n",
       "      <td>40</td>\n",
       "      <td>0.00</td>\n",
       "      <td>1696.0</td>\n",
       "      <td>1696.0</td>\n",
       "      <td>0.0</td>\n",
       "      <td>0</td>\n",
       "      <td>0.00</td>\n",
       "    </tr>\n",
       "    <tr>\n",
       "      <th>5</th>\n",
       "      <td>10250/41</td>\n",
       "      <td>10250</td>\n",
       "      <td>41</td>\n",
       "      <td>7.7</td>\n",
       "      <td>10</td>\n",
       "      <td>0.00</td>\n",
       "      <td>77.0</td>\n",
       "      <td>77.0</td>\n",
       "      <td>0.0</td>\n",
       "      <td>0</td>\n",
       "      <td>0.00</td>\n",
       "    </tr>\n",
       "    <tr>\n",
       "      <th>6</th>\n",
       "      <td>10250/51</td>\n",
       "      <td>10250</td>\n",
       "      <td>51</td>\n",
       "      <td>42.4</td>\n",
       "      <td>35</td>\n",
       "      <td>0.15</td>\n",
       "      <td>1484.0</td>\n",
       "      <td>1261.4</td>\n",
       "      <td>222.6</td>\n",
       "      <td>1</td>\n",
       "      <td>0.15</td>\n",
       "    </tr>\n",
       "    <tr>\n",
       "      <th>7</th>\n",
       "      <td>10250/65</td>\n",
       "      <td>10250</td>\n",
       "      <td>65</td>\n",
       "      <td>16.8</td>\n",
       "      <td>15</td>\n",
       "      <td>0.15</td>\n",
       "      <td>252.0</td>\n",
       "      <td>214.2</td>\n",
       "      <td>37.8</td>\n",
       "      <td>1</td>\n",
       "      <td>0.15</td>\n",
       "    </tr>\n",
       "  </tbody>\n",
       "</table>\n",
       "</div>"
      ],
      "text/plain": [
       "         Id  OrderId  ProductId  UnitPrice  Quantity  Discount  ListRev  \\\n",
       "0  10248/11    10248         11       14.0        12      0.00    168.0   \n",
       "1  10248/42    10248         42        9.8        10      0.00     98.0   \n",
       "2  10248/72    10248         72       34.8         5      0.00    174.0   \n",
       "3  10249/14    10249         14       18.6         9      0.00    167.4   \n",
       "4  10249/51    10249         51       42.4        40      0.00   1696.0   \n",
       "5  10250/41    10250         41        7.7        10      0.00     77.0   \n",
       "6  10250/51    10250         51       42.4        35      0.15   1484.0   \n",
       "7  10250/65    10250         65       16.8        15      0.15    252.0   \n",
       "\n",
       "   GrossRev  DiscVal  Disc_0_1  Disc_Group  \n",
       "0     168.0      0.0         0        0.00  \n",
       "1      98.0      0.0         0        0.00  \n",
       "2     174.0      0.0         0        0.00  \n",
       "3     167.4      0.0         0        0.00  \n",
       "4    1696.0      0.0         0        0.00  \n",
       "5      77.0      0.0         0        0.00  \n",
       "6    1261.4    222.6         1        0.15  \n",
       "7     214.2     37.8         1        0.15  "
      ]
     },
     "execution_count": 11,
     "metadata": {},
     "output_type": "execute_result"
    }
   ],
   "source": [
    "cur.execute(\"\"\"SELECT *,\n",
    "                od.UnitPrice * od.Quantity AS 'ListRev',\n",
    "                od.UnitPrice * (1 - od.Discount) * od.Quantity AS 'GrossRev',\n",
    "                od.Discount * od.UnitPrice * od.Quantity AS 'DiscVal',\n",
    "                    CASE \n",
    "                    WHEN od.Discount == 0 THEN 0\n",
    "                    ELSE 1 \n",
    "                    END AS 'Disc_0_1',\n",
    "                    CASE\n",
    "                    WHEN od.Discount BETWEEN 0.01 AND 0.06 THEN 0.05\n",
    "                    ELSE od.Discount\n",
    "                    END AS 'Disc_Group'\n",
    "                FROM [OrderDetail] od;\"\"\")\n",
    "ord_det = pd.DataFrame(cur.fetchall())\n",
    "ord_det.columns = [i[0] for i in cur.description]\n",
    "ord_det.head(8)"
   ]
  },
  {
   "cell_type": "markdown",
   "metadata": {},
   "source": [
    "## Pre-test"
   ]
  },
  {
   "cell_type": "markdown",
   "metadata": {},
   "source": [
    "Separate the data into discounted and non discounted. This makes it easier to perform some tests."
   ]
  },
  {
   "cell_type": "code",
   "execution_count": 12,
   "metadata": {},
   "outputs": [],
   "source": [
    "disc = ord_det[ord_det['Discount']>0]\n",
    "no_disc = ord_det[ord_det['Discount']==0]"
   ]
  },
  {
   "cell_type": "code",
   "execution_count": 13,
   "metadata": {
    "scrolled": true
   },
   "outputs": [
    {
     "data": {
      "text/html": [
       "<div>\n",
       "<style scoped>\n",
       "    .dataframe tbody tr th:only-of-type {\n",
       "        vertical-align: middle;\n",
       "    }\n",
       "\n",
       "    .dataframe tbody tr th {\n",
       "        vertical-align: top;\n",
       "    }\n",
       "\n",
       "    .dataframe thead th {\n",
       "        text-align: right;\n",
       "    }\n",
       "</style>\n",
       "<table border=\"1\" class=\"dataframe\">\n",
       "  <thead>\n",
       "    <tr style=\"text-align: right;\">\n",
       "      <th></th>\n",
       "      <th>Id</th>\n",
       "      <th>OrderId</th>\n",
       "      <th>ProductId</th>\n",
       "      <th>UnitPrice</th>\n",
       "      <th>Quantity</th>\n",
       "      <th>Discount</th>\n",
       "      <th>ListRev</th>\n",
       "      <th>GrossRev</th>\n",
       "      <th>DiscVal</th>\n",
       "      <th>Disc_0_1</th>\n",
       "      <th>Disc_Group</th>\n",
       "    </tr>\n",
       "  </thead>\n",
       "  <tbody>\n",
       "    <tr>\n",
       "      <th>6</th>\n",
       "      <td>10250/51</td>\n",
       "      <td>10250</td>\n",
       "      <td>51</td>\n",
       "      <td>42.4</td>\n",
       "      <td>35</td>\n",
       "      <td>0.15</td>\n",
       "      <td>1484.0</td>\n",
       "      <td>1261.40</td>\n",
       "      <td>222.60</td>\n",
       "      <td>1</td>\n",
       "      <td>0.15</td>\n",
       "    </tr>\n",
       "    <tr>\n",
       "      <th>7</th>\n",
       "      <td>10250/65</td>\n",
       "      <td>10250</td>\n",
       "      <td>65</td>\n",
       "      <td>16.8</td>\n",
       "      <td>15</td>\n",
       "      <td>0.15</td>\n",
       "      <td>252.0</td>\n",
       "      <td>214.20</td>\n",
       "      <td>37.80</td>\n",
       "      <td>1</td>\n",
       "      <td>0.15</td>\n",
       "    </tr>\n",
       "    <tr>\n",
       "      <th>8</th>\n",
       "      <td>10251/22</td>\n",
       "      <td>10251</td>\n",
       "      <td>22</td>\n",
       "      <td>16.8</td>\n",
       "      <td>6</td>\n",
       "      <td>0.05</td>\n",
       "      <td>100.8</td>\n",
       "      <td>95.76</td>\n",
       "      <td>5.04</td>\n",
       "      <td>1</td>\n",
       "      <td>0.05</td>\n",
       "    </tr>\n",
       "    <tr>\n",
       "      <th>9</th>\n",
       "      <td>10251/57</td>\n",
       "      <td>10251</td>\n",
       "      <td>57</td>\n",
       "      <td>15.6</td>\n",
       "      <td>15</td>\n",
       "      <td>0.05</td>\n",
       "      <td>234.0</td>\n",
       "      <td>222.30</td>\n",
       "      <td>11.70</td>\n",
       "      <td>1</td>\n",
       "      <td>0.05</td>\n",
       "    </tr>\n",
       "    <tr>\n",
       "      <th>11</th>\n",
       "      <td>10252/20</td>\n",
       "      <td>10252</td>\n",
       "      <td>20</td>\n",
       "      <td>64.8</td>\n",
       "      <td>40</td>\n",
       "      <td>0.05</td>\n",
       "      <td>2592.0</td>\n",
       "      <td>2462.40</td>\n",
       "      <td>129.60</td>\n",
       "      <td>1</td>\n",
       "      <td>0.05</td>\n",
       "    </tr>\n",
       "  </tbody>\n",
       "</table>\n",
       "</div>"
      ],
      "text/plain": [
       "          Id  OrderId  ProductId  UnitPrice  Quantity  Discount  ListRev  \\\n",
       "6   10250/51    10250         51       42.4        35      0.15   1484.0   \n",
       "7   10250/65    10250         65       16.8        15      0.15    252.0   \n",
       "8   10251/22    10251         22       16.8         6      0.05    100.8   \n",
       "9   10251/57    10251         57       15.6        15      0.05    234.0   \n",
       "11  10252/20    10252         20       64.8        40      0.05   2592.0   \n",
       "\n",
       "    GrossRev  DiscVal  Disc_0_1  Disc_Group  \n",
       "6    1261.40   222.60         1        0.15  \n",
       "7     214.20    37.80         1        0.15  \n",
       "8      95.76     5.04         1        0.05  \n",
       "9     222.30    11.70         1        0.05  \n",
       "11   2462.40   129.60         1        0.05  "
      ]
     },
     "execution_count": 13,
     "metadata": {},
     "output_type": "execute_result"
    }
   ],
   "source": [
    "disc.head()"
   ]
  },
  {
   "cell_type": "code",
   "execution_count": 14,
   "metadata": {
    "scrolled": true
   },
   "outputs": [
    {
     "data": {
      "text/plain": [
       "(2155, 1317, 838)"
      ]
     },
     "execution_count": 14,
     "metadata": {},
     "output_type": "execute_result"
    }
   ],
   "source": [
    "len(ord_det), len(no_disc), len(disc)"
   ]
  },
  {
   "cell_type": "code",
   "execution_count": 15,
   "metadata": {},
   "outputs": [
    {
     "data": {
      "image/png": "[encoded data removed]",
      "text/plain": [
       "<Figure size 720x576 with 1 Axes>"
      ]
     },
     "metadata": {
      "image/png": {
       "height": 501,
       "width": 615
      }
     },
     "output_type": "display_data"
    }
   ],
   "source": [
    "# Violin plot by discount group\n",
    "sns.set(rc={'figure.figsize':(10,8)})\n",
    "sns.set(color_codes=True)\n",
    "sns.violinplot( x=ord_det[\"Disc_Group\"], y=ord_det[\"Quantity\"], linewidth=2, palette=\"Blues\")\n",
    "plt.xlabel(\"Discount Groups\")\n",
    "plt.ylabel(\"Quantity\")\n",
    "plt.title('Comparing Quantity Distribution by Discount Group', fontsize = 16)\n",
    "plt.show();"
   ]
  },
  {
   "cell_type": "markdown",
   "metadata": {},
   "source": [
    "**Interpretation**\n",
    "All the discount groups have a higher mean and interquartile range than the non-discount group. The discount groups have a flatter, more spread distribution than non-discount; especially at 20% and 25% discount. The 10% has a similar mean to 5% and 15%, but the interquartile range appears to be lower and of a smaller range."
   ]
  },
  {
   "cell_type": "markdown",
   "metadata": {},
   "source": [
    "Test to see if the distributions are normal"
   ]
  },
  {
   "cell_type": "code",
   "execution_count": 16,
   "metadata": {},
   "outputs": [
    {
     "data": {
      "text/plain": [
       "NormaltestResult(statistic=261.528012299789, pvalue=1.6214878452829618e-57)"
      ]
     },
     "execution_count": 16,
     "metadata": {},
     "output_type": "execute_result"
    }
   ],
   "source": [
    "stat.normaltest(disc['Quantity'])"
   ]
  },
  {
   "cell_type": "code",
   "execution_count": 17,
   "metadata": {
    "scrolled": true
   },
   "outputs": [
    {
     "data": {
      "text/plain": [
       "NormaltestResult(statistic=544.5770045551502, pvalue=5.579637380545965e-119)"
      ]
     },
     "execution_count": 17,
     "metadata": {},
     "output_type": "execute_result"
    }
   ],
   "source": [
    "stat.normaltest(no_disc['Quantity'])"
   ]
  },
  {
   "cell_type": "markdown",
   "metadata": {},
   "source": [
    "The normal test has a null hypothesis that the distribution is normal. However, in our case the p-values are tiny, so we reject the null hypothesis. The most common alpha value is $\\alpha = 0.05$. Even with a value much smaller than this we would reject the null hypothesis.\n",
    "\n",
    "$p < \\alpha$: Reject the Null Hypothesis that the distribution is normal.\n",
    "\n",
    "Let's inspect the two distributions visually"
   ]
  },
  {
   "cell_type": "code",
   "execution_count": 18,
   "metadata": {},
   "outputs": [],
   "source": [
    "# naming the discount / non discount series for simplicty\n",
    "Discount_Qty = disc['Quantity']\n",
    "No_Discount_Qty = no_disc['Quantity']"
   ]
  },
  {
   "cell_type": "code",
   "execution_count": 19,
   "metadata": {},
   "outputs": [
    {
     "data": {
      "image/png": "[encoded data removed]",
      "text/plain": [
       "<Figure size 720x576 with 1 Axes>"
      ]
     },
     "metadata": {
      "image/png": {
       "height": 499,
       "width": 609
      }
     },
     "output_type": "display_data"
    }
   ],
   "source": [
    "# Plot with overlapping of distribution means and sds\n",
    "\n",
    "sns.set(color_codes=True)\n",
    "sns.set(rc={'figure.figsize':(10,8)})\n",
    "sns.distplot(No_Discount_Qty, label='No Discount') # blue dist\n",
    "sns.distplot(Discount_Qty, label='Discount') # orange dist\n",
    "plt.title('Distribution of Quantity Ordered by Discount vs No Discount')\n",
    "plt.legend()\n",
    "plt.show();"
   ]
  },
  {
   "cell_type": "markdown",
   "metadata": {},
   "source": [
    "We see a similar distribution shape between discount and no discount. The discount appears to have a higher mean, in that its peak is at a higher quantity."
   ]
  },
  {
   "cell_type": "markdown",
   "metadata": {},
   "source": [
    "## Experiment, Testing and Interpret"
   ]
  },
  {
   "cell_type": "markdown",
   "metadata": {},
   "source": [
    "In the experiment section we will test against our **$H_{0}$ Null Hypothesis** that discounts have no effect on sales order quantity."
   ]
  },
  {
   "cell_type": "markdown",
   "metadata": {},
   "source": [
    "We will perform four test in the experiment section. We are performing a one-tail test - as we are interested in whether discounts **increase** order quantity, rather than whether they change (increase or decrease) order quantity.\n",
    "\n",
    "### 1. Welch's t-test\n",
    "Used to compare the means of two groups of samples when the variances are different.\n",
    "\n",
    "### 2. Cohen's d\n",
    "Used to measure the effect size, or the strength of the relationship between the two samples. It measured the standardize difference between two means.\n",
    "\n",
    "### 3. ANOVA\n",
    "ANOVA (Analysis of Variance) is a method for generalizing statistical tests to multiple groups. ANOVA analyses the overall variance of a dataset. It is useful for testing more than two means - all discount groups in our example.\n",
    "\n",
    "### 4. Tukey Test\n",
    "Is used after an ANOVA test. While an ANOVA test can tell you whether your results are significant overall, it won’t tell significance within groups. This test compares all possible pairs of means."
   ]
  },
  {
   "cell_type": "markdown",
   "metadata": {},
   "source": [
    "### Welch's t-test"
   ]
  },
  {
   "cell_type": "code",
   "execution_count": 20,
   "metadata": {},
   "outputs": [
    {
     "name": "stdout",
     "output_type": "stream",
     "text": [
      "Ttest_indResult(statistic=-6.239069142123973, pvalue=5.65641429030433e-10)\n",
      "This is a 2-tail test. To get the p-value for a one-tail test we divide by 2. \n",
      "p-value is: 2.8282e-10\n"
     ]
    }
   ],
   "source": [
    "Welch_ttest = stat.ttest_ind(No_Discount_Qty, Discount_Qty, equal_var=False)\n",
    "print(Welch_ttest)\n",
    "print(\"This is a 2-tail test. To get the p-value for a one-tail test we divide by 2. \\np-value is:\", \n",
    "      round(Welch_ttest[1]/2,14))"
   ]
  },
  {
   "cell_type": "markdown",
   "metadata": {},
   "source": [
    "#### Interpretation\n",
    "We get a p-value of 2.8282e-10, this is less than our $\\alpha = 0.05$\n",
    "\n",
    "Since $p < \\alpha$ we reject the Null Hypothesis that discount has no effect on order quantity. There is statistical evidence at the 5% level of significance that the mean order quantity of discounted orders is greater than the mean order quantity with no discount.\n"
   ]
  },
  {
   "cell_type": "markdown",
   "metadata": {},
   "source": [
    "### Cohen's d"
   ]
  },
  {
   "cell_type": "code",
   "execution_count": 21,
   "metadata": {},
   "outputs": [],
   "source": [
    "# Cohen's d formula\n",
    "\n",
    "def Cohen_d(group1, group2):\n",
    "    diff = group1.mean() - group2.mean()\n",
    "\n",
    "    n1, n2 = len(group1), len(group2)\n",
    "    var1 = group1.var()\n",
    "    var2 = group2.var()\n",
    "\n",
    "    # Calculate the pooled variance\n",
    "    pooled_var = (n1 * var1 + n2 * var2) / (n1 + n2)\n",
    "    \n",
    "    # Calculate Cohen's d statistic\n",
    "    d = diff / np.sqrt(pooled_var)\n",
    "    \n",
    "    return d"
   ]
  },
  {
   "cell_type": "code",
   "execution_count": 22,
   "metadata": {
    "scrolled": true
   },
   "outputs": [
    {
     "data": {
      "text/plain": [
       "0.2862724481729283"
      ]
     },
     "execution_count": 22,
     "metadata": {},
     "output_type": "execute_result"
    }
   ],
   "source": [
    "Cohen_d(Discount_Qty, No_Discount_Qty)"
   ]
  },
  {
   "cell_type": "markdown",
   "metadata": {},
   "source": [
    "#### Interpretation\n",
    "\n",
    "Cohen provided some general “rule of thumb” guidelines (which should be used cautiously):\n",
    "\n",
    "Small effect = 0.2\n",
    "Medium Effect = 0.5\n",
    "Large Effect = 0.8\n",
    "\n",
    "Based on these guidelines we can say that discounts have a **small** statistically significant effect on order quantity"
   ]
  },
  {
   "cell_type": "markdown",
   "metadata": {},
   "source": [
    "### ANOVA"
   ]
  },
  {
   "cell_type": "code",
   "execution_count": 27,
   "metadata": {},
   "outputs": [],
   "source": [
    "import statsmodels.api as sm\n",
    "from statsmodels.formula.api import ols\n",
    "from statsmodels.stats.multicomp import pairwise_tukeyhsd\n",
    "from statsmodels.stats.multicomp import MultiComparison"
   ]
  },
  {
   "cell_type": "code",
   "execution_count": 28,
   "metadata": {},
   "outputs": [],
   "source": [
    "f1 = 'Disc_Group'\n",
    "f2 = 'Quantity'"
   ]
  },
  {
   "cell_type": "code",
   "execution_count": 29,
   "metadata": {},
   "outputs": [
    {
     "name": "stdout",
     "output_type": "stream",
     "text": [
      "                      sum_sq      df         F        PR(>F)\n",
      "C(Disc_Group)   15969.214452     5.0  8.990431  1.816734e-08\n",
      "Residual       763430.421743  2149.0       NaN           NaN\n"
     ]
    }
   ],
   "source": [
    "formula = '{} ~ C({})'.format(f2, f1)\n",
    "lm = ols(formula, ord_det).fit()\n",
    "table = sm.stats.anova_lm(lm, typ=2)\n",
    "print(table)"
   ]
  },
  {
   "cell_type": "markdown",
   "metadata": {},
   "source": [
    "#### Interpretation\n",
    "With ANOVA we are testing whether there is a significant difference between discount groups.\n",
    "The model gives us a p-value of 1.8167e-08, which is less than our $\\alpha = 0.05$. We can reject the Null Hypothesis that there is no difference between groups. We don't know which specific levels of discount are significant, only that in total they are significant."
   ]
  },
  {
   "cell_type": "code",
   "execution_count": null,
   "metadata": {},
   "outputs": [],
   "source": []
  },
  {
   "cell_type": "markdown",
   "metadata": {},
   "source": [
    "### Tukey test"
   ]
  },
  {
   "cell_type": "code",
   "execution_count": 30,
   "metadata": {},
   "outputs": [
    {
     "name": "stdout",
     "output_type": "stream",
     "text": [
      "Multiple Comparison of Means - Tukey HSD,FWER=0.05\n",
      "=============================================\n",
      "group1 group2 meandiff  lower   upper  reject\n",
      "---------------------------------------------\n",
      " 0.0    0.05   5.207    1.0635  9.3506  True \n",
      " 0.0    0.1    3.5217  -0.8257  7.8692 False \n",
      " 0.0    0.15   6.6669   2.1279 11.2059  True \n",
      " 0.0    0.2    5.3096   0.8212  9.7979  True \n",
      " 0.0    0.25   6.525    1.9467 11.1033  True \n",
      " 0.05   0.1   -1.6853  -7.3138  3.9432 False \n",
      " 0.05   0.15   1.4599  -4.3179  7.2377 False \n",
      " 0.05   0.2    0.1026  -5.6355  5.8406 False \n",
      " 0.05   0.25   1.318   -4.4907  7.1267 False \n",
      " 0.1    0.15   3.1452  -2.7805  9.0709 False \n",
      " 0.1    0.2    1.7879  -4.0991  7.6748 False \n",
      " 0.1    0.25   3.0033  -2.9526  8.9591 False \n",
      " 0.15   0.2   -1.3573  -7.3872  4.6725 False \n",
      " 0.15   0.25  -0.1419   -6.239  5.9552 False \n",
      " 0.2    0.25   1.2154  -4.8441  7.2749 False \n",
      "---------------------------------------------\n",
      "[0.   0.05 0.1  0.15 0.2  0.25]\n"
     ]
    }
   ],
   "source": [
    "mc = MultiComparison(ord_det.Quantity, ord_det.Disc_Group)\n",
    "result = mc.tukeyhsd()\n",
    " \n",
    "print(result)\n",
    "print(mc.groupsunique)"
   ]
  },
  {
   "cell_type": "markdown",
   "metadata": {},
   "source": [
    "#### Interpretation\n",
    "Discount levels of 5%, 15%, 20% and 25% produce a significant difference compared against no discount. However, there is no significant difference between the different levels of discount."
   ]
  },
  {
   "cell_type": "markdown",
   "metadata": {},
   "source": [
    "## Conclusion"
   ]
  },
  {
   "cell_type": "markdown",
   "metadata": {},
   "source": [
    "* There is sufficent evidence to reject the Null Hypothesis that discounts have no effect. Discounts produce a small statistically significant effect on the mean order quantity.\n",
    "* In particular discount amounts of 5%, 15%, 20% and 25% have a significant effect compared with no discount. There is no significant effect between discounts - a 5% discount appears to have the same effect as a 25% discount."
   ]
  },
  {
   "cell_type": "code",
   "execution_count": null,
   "metadata": {},
   "outputs": [],
   "source": []
  },
  {
   "cell_type": "markdown",
   "metadata": {},
   "source": [
    "# Hypothesis #2: Categories"
   ]
  },
  {
   "cell_type": "markdown",
   "metadata": {},
   "source": [
    "## $H_{0}$ Null Hypothesis\n",
    "**There is no difference in sales order quantity between product categories.**\n",
    "\n",
    "## $H_{1}$ Alternative Hypothesis\n",
    "**There is a difference in sales order quantity between product categories**"
   ]
  },
  {
   "cell_type": "markdown",
   "metadata": {},
   "source": [
    "Getting data for Categories.\n",
    "Test - there is no difference in discount level by Category"
   ]
  },
  {
   "cell_type": "code",
   "execution_count": 4,
   "metadata": {},
   "outputs": [
    {
     "ename": "OperationalError",
     "evalue": "no such column: ShippedDate",
     "output_type": "error",
     "traceback": [
      "\u001b[1;31m---------------------------------------------------------------------------\u001b[0m",
      "\u001b[1;31mOperationalError\u001b[0m                          Traceback (most recent call last)",
      "\u001b[1;32m<ipython-input-4-a0ef8fa33e09>\u001b[0m in \u001b[0;36m<module>\u001b[1;34m\u001b[0m\n\u001b[0;32m     12\u001b[0m                 \u001b[0mON\u001b[0m \u001b[0mod\u001b[0m\u001b[1;33m.\u001b[0m\u001b[0mProductId\u001b[0m \u001b[1;33m=\u001b[0m \u001b[0mp\u001b[0m\u001b[1;33m.\u001b[0m\u001b[0mId\u001b[0m\u001b[1;33m\u001b[0m\u001b[1;33m\u001b[0m\u001b[0m\n\u001b[0;32m     13\u001b[0m                 \u001b[0mJOIN\u001b[0m \u001b[0mCategory\u001b[0m \u001b[0mc\u001b[0m\u001b[1;33m\u001b[0m\u001b[1;33m\u001b[0m\u001b[0m\n\u001b[1;32m---> 14\u001b[1;33m                 ON c.Id = p.CategoryId\"\"\");\n\u001b[0m\u001b[0;32m     15\u001b[0m \u001b[1;33m\u001b[0m\u001b[0m\n\u001b[0;32m     16\u001b[0m \u001b[0mCat_df\u001b[0m \u001b[1;33m=\u001b[0m \u001b[0mpd\u001b[0m\u001b[1;33m.\u001b[0m\u001b[0mDataFrame\u001b[0m\u001b[1;33m(\u001b[0m\u001b[0mcur\u001b[0m\u001b[1;33m.\u001b[0m\u001b[0mfetchall\u001b[0m\u001b[1;33m(\u001b[0m\u001b[1;33m)\u001b[0m\u001b[1;33m)\u001b[0m\u001b[1;33m\u001b[0m\u001b[1;33m\u001b[0m\u001b[0m\n",
      "\u001b[1;31mOperationalError\u001b[0m: no such column: ShippedDate"
     ]
    }
   ],
   "source": [
    "cur.execute(\"\"\"SELECT OrderId, ProductId, od.UnitPrice, Quantity, Discount,\n",
    "                ProductName, CategoryId, CategoryName, ShippedDate,\n",
    "                od.UnitPrice * od.Quantity AS 'ListRev',\n",
    "                od.UnitPrice * (1 - od.Discount) * od.Quantity AS 'GrossRev',\n",
    "                od.Discount * od.UnitPrice * od.Quantity AS 'DiscVal',\n",
    "                    CASE \n",
    "                    WHEN od.Discount == 0 THEN 0\n",
    "                    ELSE 1 \n",
    "                    END AS 'Disc_0_1'\n",
    "                FROM [OrderDetail] od\n",
    "                JOIN [Product] p\n",
    "                ON od.ProductId = p.Id\n",
    "                JOIN Category c\n",
    "                ON c.Id = p.CategoryId\"\"\");\n",
    "                      \n",
    "Cat_df = pd.DataFrame(cur.fetchall())\n",
    "Cat_df.columns = [i[0] for i in cur.description]\n",
    "print(len(Cat_df))\n",
    "Cat_df.head()"
   ]
  },
  {
   "cell_type": "markdown",
   "metadata": {},
   "source": [
    "Group by Category Name to inspect aggregations"
   ]
  },
  {
   "cell_type": "code",
   "execution_count": 32,
   "metadata": {},
   "outputs": [
    {
     "data": {
      "text/html": [
       "<div>\n",
       "<style scoped>\n",
       "    .dataframe tbody tr th:only-of-type {\n",
       "        vertical-align: middle;\n",
       "    }\n",
       "\n",
       "    .dataframe tbody tr th {\n",
       "        vertical-align: top;\n",
       "    }\n",
       "\n",
       "    .dataframe thead tr th {\n",
       "        text-align: left;\n",
       "    }\n",
       "\n",
       "    .dataframe thead tr:last-of-type th {\n",
       "        text-align: right;\n",
       "    }\n",
       "</style>\n",
       "<table border=\"1\" class=\"dataframe\">\n",
       "  <thead>\n",
       "    <tr>\n",
       "      <th></th>\n",
       "      <th colspan=\"3\" halign=\"left\">Quantity</th>\n",
       "      <th>GrossRev</th>\n",
       "      <th>UnitPrice</th>\n",
       "    </tr>\n",
       "    <tr>\n",
       "      <th></th>\n",
       "      <th>count</th>\n",
       "      <th>sum</th>\n",
       "      <th>mean</th>\n",
       "      <th>sum</th>\n",
       "      <th>mean</th>\n",
       "    </tr>\n",
       "    <tr>\n",
       "      <th>CategoryName</th>\n",
       "      <th></th>\n",
       "      <th></th>\n",
       "      <th></th>\n",
       "      <th></th>\n",
       "      <th></th>\n",
       "    </tr>\n",
       "  </thead>\n",
       "  <tbody>\n",
       "    <tr>\n",
       "      <th>Beverages</th>\n",
       "      <td>404</td>\n",
       "      <td>9532</td>\n",
       "      <td>23.594059</td>\n",
       "      <td>267868.1800</td>\n",
       "      <td>29.236757</td>\n",
       "    </tr>\n",
       "    <tr>\n",
       "      <th>Condiments</th>\n",
       "      <td>216</td>\n",
       "      <td>5298</td>\n",
       "      <td>24.527778</td>\n",
       "      <td>106047.0850</td>\n",
       "      <td>21.320833</td>\n",
       "    </tr>\n",
       "    <tr>\n",
       "      <th>Confections</th>\n",
       "      <td>334</td>\n",
       "      <td>7906</td>\n",
       "      <td>23.670659</td>\n",
       "      <td>167357.2250</td>\n",
       "      <td>22.602695</td>\n",
       "    </tr>\n",
       "    <tr>\n",
       "      <th>Dairy Products</th>\n",
       "      <td>366</td>\n",
       "      <td>9149</td>\n",
       "      <td>24.997268</td>\n",
       "      <td>234507.2850</td>\n",
       "      <td>26.983060</td>\n",
       "    </tr>\n",
       "    <tr>\n",
       "      <th>Grains/Cereals</th>\n",
       "      <td>196</td>\n",
       "      <td>4562</td>\n",
       "      <td>23.275510</td>\n",
       "      <td>95744.5875</td>\n",
       "      <td>21.246429</td>\n",
       "    </tr>\n",
       "    <tr>\n",
       "      <th>Meat/Poultry</th>\n",
       "      <td>173</td>\n",
       "      <td>4199</td>\n",
       "      <td>24.271676</td>\n",
       "      <td>163022.3595</td>\n",
       "      <td>42.874740</td>\n",
       "    </tr>\n",
       "    <tr>\n",
       "      <th>Produce</th>\n",
       "      <td>136</td>\n",
       "      <td>2990</td>\n",
       "      <td>21.985294</td>\n",
       "      <td>99984.5800</td>\n",
       "      <td>35.194485</td>\n",
       "    </tr>\n",
       "    <tr>\n",
       "      <th>Seafood</th>\n",
       "      <td>330</td>\n",
       "      <td>7681</td>\n",
       "      <td>23.275758</td>\n",
       "      <td>131261.7375</td>\n",
       "      <td>19.062970</td>\n",
       "    </tr>\n",
       "  </tbody>\n",
       "</table>\n",
       "</div>"
      ],
      "text/plain": [
       "               Quantity                      GrossRev  UnitPrice\n",
       "                  count   sum       mean          sum       mean\n",
       "CategoryName                                                    \n",
       "Beverages           404  9532  23.594059  267868.1800  29.236757\n",
       "Condiments          216  5298  24.527778  106047.0850  21.320833\n",
       "Confections         334  7906  23.670659  167357.2250  22.602695\n",
       "Dairy Products      366  9149  24.997268  234507.2850  26.983060\n",
       "Grains/Cereals      196  4562  23.275510   95744.5875  21.246429\n",
       "Meat/Poultry        173  4199  24.271676  163022.3595  42.874740\n",
       "Produce             136  2990  21.985294   99984.5800  35.194485\n",
       "Seafood             330  7681  23.275758  131261.7375  19.062970"
      ]
     },
     "execution_count": 32,
     "metadata": {},
     "output_type": "execute_result"
    }
   ],
   "source": [
    "cat_summary = Cat_df.groupby(Cat_df.CategoryName).agg({'Quantity': ['count', 'sum', 'mean'], 'GrossRev': 'sum', 'UnitPrice': 'mean'})\n",
    "cat_summary"
   ]
  },
  {
   "cell_type": "markdown",
   "metadata": {},
   "source": [
    "View Category by Total Order Quantity"
   ]
  },
  {
   "cell_type": "code",
   "execution_count": 33,
   "metadata": {
    "scrolled": true
   },
   "outputs": [
    {
     "data": {
      "image/png": "[encoded data removed]",
      "text/plain": [
       "<Figure size 720x360 with 1 Axes>"
      ]
     },
     "metadata": {
      "image/png": {
       "height": 360,
       "width": 612
      }
     },
     "output_type": "display_data"
    }
   ],
   "source": [
    "plt.figure(figsize=(10,5))\n",
    "sum = Cat_df.groupby('CategoryName')['Quantity'].sum()\n",
    "sum.plot.bar(x='CategoryName', y='Quantity')\n",
    "plt.xticks(rotation=30)\n",
    "plt.show();"
   ]
  },
  {
   "cell_type": "markdown",
   "metadata": {},
   "source": [
    "View Category by Total Gross Revenue"
   ]
  },
  {
   "cell_type": "code",
   "execution_count": 34,
   "metadata": {},
   "outputs": [
    {
     "data": {
      "image/png": "[encoded data removed]",
      "text/plain": [
       "<Figure size 720x360 with 1 Axes>"
      ]
     },
     "metadata": {
      "image/png": {
       "height": 356,
       "width": 618
      }
     },
     "output_type": "display_data"
    }
   ],
   "source": [
    "plt.figure(figsize=(10,5))\n",
    "sum = Cat_df.groupby('CategoryName')['GrossRev'].sum()\n",
    "sum.plot.bar(x='CategoryName', y='GrossRev', color='darkorange')\n",
    "plt.xticks(rotation=30)\n",
    "plt.show();"
   ]
  },
  {
   "cell_type": "markdown",
   "metadata": {},
   "source": [
    "Category by mean order quantity"
   ]
  },
  {
   "cell_type": "code",
   "execution_count": 35,
   "metadata": {
    "scrolled": true
   },
   "outputs": [
    {
     "data": {
      "image/png": "[encoded data removed]",
      "text/plain": [
       "<Figure size 720x360 with 1 Axes>"
      ]
     },
     "metadata": {
      "image/png": {
       "height": 356,
       "width": 609
      }
     },
     "output_type": "display_data"
    }
   ],
   "source": [
    "plt.figure(figsize=(10,5))\n",
    "sns.barplot(x='CategoryName', y='Quantity', data=Cat_df)\n",
    "plt.xticks(rotation=30)\n",
    "plt.show();"
   ]
  },
  {
   "cell_type": "markdown",
   "metadata": {},
   "source": [
    "Category by mean order revenue"
   ]
  },
  {
   "cell_type": "code",
   "execution_count": 36,
   "metadata": {},
   "outputs": [
    {
     "data": {
      "image/png": "[encoded data removed]",
      "text/plain": [
       "<Figure size 720x360 with 1 Axes>"
      ]
     },
     "metadata": {
      "image/png": {
       "height": 356,
       "width": 609
      }
     },
     "output_type": "display_data"
    }
   ],
   "source": [
    "plt.figure(figsize=(10,5))\n",
    "sns.barplot(x='CategoryName', y='UnitPrice', data=Cat_df)\n",
    "plt.xticks(rotation=30)\n",
    "plt.show();"
   ]
  },
  {
   "cell_type": "code",
   "execution_count": null,
   "metadata": {},
   "outputs": [],
   "source": []
  },
  {
   "cell_type": "markdown",
   "metadata": {},
   "source": [
    "## Experiment, Testing and Interpret"
   ]
  },
  {
   "cell_type": "markdown",
   "metadata": {},
   "source": [
    "In the experiment section we will test against our **$H_{0}$ Null Hypothesis** that product Categories have no effect on sales order quantity."
   ]
  },
  {
   "cell_type": "markdown",
   "metadata": {},
   "source": [
    "For this experiment we are testing multiple groups. So we will only perform ANOVA and Tukey Test."
   ]
  },
  {
   "cell_type": "markdown",
   "metadata": {},
   "source": [
    "### ANOVA"
   ]
  },
  {
   "cell_type": "code",
   "execution_count": 37,
   "metadata": {},
   "outputs": [],
   "source": [
    "f1 = 'CategoryName'\n",
    "f2 = 'Quantity'"
   ]
  },
  {
   "cell_type": "code",
   "execution_count": 38,
   "metadata": {},
   "outputs": [
    {
     "name": "stdout",
     "output_type": "stream",
     "text": [
      "                        sum_sq      df         F    PR(>F)\n",
      "C(CategoryName)    1292.377084     7.0  0.509429  0.828058\n",
      "Residual         778107.259110  2147.0       NaN       NaN\n"
     ]
    }
   ],
   "source": [
    "formula = '{} ~ C({})'.format(f2, f1)\n",
    "lm = ols(formula, Cat_df).fit()\n",
    "table = sm.stats.anova_lm(lm, typ=2)\n",
    "print(table)"
   ]
  },
  {
   "cell_type": "markdown",
   "metadata": {},
   "source": [
    "#### Interpretation\n",
    "The model gives us a p-value of 0.8281, which is greater than our $\\alpha = 0.05$. There is insufficient evidence to reject the Null Hypothesis that there is no difference between groups."
   ]
  },
  {
   "cell_type": "markdown",
   "metadata": {},
   "source": [
    "### Tukey test"
   ]
  },
  {
   "cell_type": "code",
   "execution_count": 41,
   "metadata": {},
   "outputs": [
    {
     "name": "stdout",
     "output_type": "stream",
     "text": [
      "     Multiple Comparison of Means - Tukey HSD,FWER=0.05     \n",
      "============================================================\n",
      "    group1         group2     meandiff  lower  upper  reject\n",
      "------------------------------------------------------------\n",
      "  Beverages      Condiments    0.9337  -3.9346 5.802  False \n",
      "  Beverages     Confections    0.0766  -4.1947 4.3479 False \n",
      "  Beverages    Dairy Products  1.4032  -2.7647 5.5711 False \n",
      "  Beverages    Grains/Cereals -0.3185  -5.3461 4.709  False \n",
      "  Beverages     Meat/Poultry   0.6776  -4.5701 5.9254 False \n",
      "  Beverages       Produce     -1.6088  -7.3346 4.117  False \n",
      "  Beverages       Seafood     -0.3183  -4.6038 3.9672 False \n",
      "  Condiments    Confections   -0.8571    -5.9  4.1858 False \n",
      "  Condiments   Dairy Products  0.4695  -4.4861 5.4251 False \n",
      "  Condiments   Grains/Cereals -1.2523  -6.9499 4.4454 False \n",
      "  Condiments    Meat/Poultry  -0.2561  -6.1489 5.6367 False \n",
      "  Condiments      Produce     -2.5425  -8.8648 3.7798 False \n",
      "  Condiments      Seafood      -1.252  -6.3069 3.8029 False \n",
      " Confections   Dairy Products  1.3266  -3.0439 5.6971 False \n",
      " Confections   Grains/Cereals -0.3951   -5.592 4.8017 False \n",
      " Confections    Meat/Poultry   0.601   -4.8091 6.0111 False \n",
      " Confections      Produce     -1.6854  -7.5603 4.1896 False \n",
      " Confections      Seafood     -0.3949  -4.8777 4.0879 False \n",
      "Dairy Products Grains/Cereals -1.7218  -6.8339 3.3903 False \n",
      "Dairy Products  Meat/Poultry  -0.7256  -6.0544 4.6032 False \n",
      "Dairy Products    Produce      -3.012  -8.8122 2.7882 False \n",
      "Dairy Products    Seafood     -1.7215  -6.1059 2.6629 False \n",
      "Grains/Cereals  Meat/Poultry   0.9962  -5.0289 7.0212 False \n",
      "Grains/Cereals    Produce     -1.2902  -7.7359 5.1555 False \n",
      "Grains/Cereals    Seafood      0.0002  -5.2082 5.2087 False \n",
      " Meat/Poultry     Produce     -2.2864  -8.9053 4.3325 False \n",
      " Meat/Poultry     Seafood     -0.9959  -6.4172 4.4254 False \n",
      "   Produce        Seafood      1.2905  -4.5948 7.1757 False \n",
      "------------------------------------------------------------\n",
      "['Beverages' 'Condiments' 'Confections' 'Dairy Products' 'Grains/Cereals'\n",
      " 'Meat/Poultry' 'Produce' 'Seafood']\n"
     ]
    }
   ],
   "source": [
    "mc = MultiComparison(Cat_df.Quantity, Cat_df.CategoryName)\n",
    "result = mc.tukeyhsd()\n",
    " \n",
    "print(result)\n",
    "print(mc.groupsunique)"
   ]
  },
  {
   "cell_type": "markdown",
   "metadata": {},
   "source": [
    "#### Interpretation\n",
    "Discount levels of 5%, 15%, 20% and 25% produce a significant difference compared against no discount. However, there is no significant difference between the different levels of discount."
   ]
  },
  {
   "cell_type": "markdown",
   "metadata": {},
   "source": [
    "## Conclusion"
   ]
  },
  {
   "cell_type": "markdown",
   "metadata": {},
   "source": [
    "* There is sufficent evidence to reject the Null Hypothesis that discounts have no effect. Discounts produce a small statistically significant effect on the mean order quantity.\n",
    "* In particular discount amounts of 5%, 15%, 20% and 25% have a significant effect compared with no discount. There is no significant effect between discounts - a 5% discount appears to have the same effect as a 25% discount."
   ]
  },
  {
   "cell_type": "markdown",
   "metadata": {},
   "source": [
    "## Future Work appendix"
   ]
  },
  {
   "cell_type": "code",
   "execution_count": null,
   "metadata": {
    "scrolled": true
   },
   "outputs": [],
   "source": [
    "Cat_df.groupby('CategoryName')['Quantity', 'UnitPrice'].describe()"
   ]
  },
  {
   "cell_type": "code",
   "execution_count": null,
   "metadata": {},
   "outputs": [],
   "source": []
  },
  {
   "cell_type": "markdown",
   "metadata": {},
   "source": [
    "Comparing distribution of Beverages (high total quantity and revenue) vs Produce (low total quantity and revenue)"
   ]
  },
  {
   "cell_type": "code",
   "execution_count": null,
   "metadata": {},
   "outputs": [],
   "source": [
    "Bev_df = Cat_df[Cat_df['CategoryName'] == 'Beverages']\n",
    "Prod_df = Cat_df[Cat_df['CategoryName'] == 'Produce']"
   ]
  },
  {
   "cell_type": "code",
   "execution_count": null,
   "metadata": {},
   "outputs": [],
   "source": [
    "Bev_df.Quantity.hist(figsize = (5,5)), Prod_df.Quantity.hist(figsize = (5,5));\n"
   ]
  },
  {
   "cell_type": "code",
   "execution_count": null,
   "metadata": {},
   "outputs": [],
   "source": [
    "sns.set(rc={'figure.figsize':(15,8)})\n",
    "sns.lmplot( x=\"UnitPrice\", y=\"Quantity\", data=Cat_df, fit_reg=False, hue='CategoryName', legend=True, aspect= 2, markers =\".\")\n",
    "# plt.legend(bbox_to_anchor=(1.05,1), loc=2, borderaxespad=0)\n",
    "plt.show();"
   ]
  },
  {
   "cell_type": "code",
   "execution_count": null,
   "metadata": {},
   "outputs": [],
   "source": [
    "sns.set(rc={'figure.figsize':(15,8)})\n",
    "ax = sns.lmplot( x=\"UnitPrice\", y=\"Quantity\", data=Cat_df, fit_reg=False, hue='CategoryName', legend=True, aspect= 2, markers =\".\")\n",
    "ax.set(xlim=(0,50))\n",
    "# plt.legend(bbox_to_anchor=(1.05,1), loc=2, borderaxespad=0)\n",
    "plt.show();\n"
   ]
  },
  {
   "cell_type": "code",
   "execution_count": null,
   "metadata": {},
   "outputs": [],
   "source": [
    "Cat_df.loc[Cat_df['UnitPrice'] > 100]"
   ]
  },
  {
   "cell_type": "code",
   "execution_count": null,
   "metadata": {},
   "outputs": [],
   "source": [
    "Cat_df['UnitPrice'].describe()"
   ]
  },
  {
   "cell_type": "code",
   "execution_count": null,
   "metadata": {},
   "outputs": [],
   "source": []
  },
  {
   "cell_type": "code",
   "execution_count": null,
   "metadata": {},
   "outputs": [],
   "source": []
  },
  {
   "cell_type": "code",
   "execution_count": null,
   "metadata": {},
   "outputs": [],
   "source": []
  },
  {
   "cell_type": "code",
   "execution_count": null,
   "metadata": {},
   "outputs": [],
   "source": []
  },
  {
   "cell_type": "markdown",
   "metadata": {},
   "source": [
    "# Hypothesis #3: Employees"
   ]
  },
  {
   "cell_type": "markdown",
   "metadata": {},
   "source": [
    "## $H_{0}$ Null Hypothesis\n",
    "**Discounts have no effect on sales order quantity.**\n",
    "\n",
    "## $H_{1}$ Alternative Hypothesis\n",
    "**Discounts lead to an increase in sales order quantity**"
   ]
  },
  {
   "cell_type": "code",
   "execution_count": null,
   "metadata": {},
   "outputs": [],
   "source": [
    "# Getting data for Employees\n",
    "# There is no discount in revenue by employee\n",
    "# Discounted vs non-discounted\n",
    "# Average discount - might need a group by??"
   ]
  },
  {
   "cell_type": "code",
   "execution_count": 15,
   "metadata": {},
   "outputs": [
    {
     "name": "stdout",
     "output_type": "stream",
     "text": [
      "2155\n"
     ]
    },
    {
     "data": {
      "text/html": [
       "<div>\n",
       "<style scoped>\n",
       "    .dataframe tbody tr th:only-of-type {\n",
       "        vertical-align: middle;\n",
       "    }\n",
       "\n",
       "    .dataframe tbody tr th {\n",
       "        vertical-align: top;\n",
       "    }\n",
       "\n",
       "    .dataframe thead th {\n",
       "        text-align: right;\n",
       "    }\n",
       "</style>\n",
       "<table border=\"1\" class=\"dataframe\">\n",
       "  <thead>\n",
       "    <tr style=\"text-align: right;\">\n",
       "      <th></th>\n",
       "      <th>OrderId</th>\n",
       "      <th>ProductId</th>\n",
       "      <th>UnitPrice</th>\n",
       "      <th>Quantity</th>\n",
       "      <th>Discount</th>\n",
       "      <th>OrderDate</th>\n",
       "      <th>ShippedDate</th>\n",
       "      <th>RequiredDate</th>\n",
       "      <th>LastName</th>\n",
       "      <th>Title</th>\n",
       "      <th>City</th>\n",
       "      <th>Country</th>\n",
       "      <th>Id</th>\n",
       "      <th>ListRev</th>\n",
       "      <th>GrossRev</th>\n",
       "      <th>DiscVal</th>\n",
       "      <th>Disc_0_1</th>\n",
       "    </tr>\n",
       "  </thead>\n",
       "  <tbody>\n",
       "    <tr>\n",
       "      <th>0</th>\n",
       "      <td>10248</td>\n",
       "      <td>11</td>\n",
       "      <td>14.0</td>\n",
       "      <td>12</td>\n",
       "      <td>0.00</td>\n",
       "      <td>2012-07-04</td>\n",
       "      <td>2012-07-16</td>\n",
       "      <td>2012-08-01</td>\n",
       "      <td>Buchanan</td>\n",
       "      <td>Sales Manager</td>\n",
       "      <td>London</td>\n",
       "      <td>UK</td>\n",
       "      <td>5</td>\n",
       "      <td>168.0</td>\n",
       "      <td>168.00</td>\n",
       "      <td>0.00</td>\n",
       "      <td>0</td>\n",
       "    </tr>\n",
       "    <tr>\n",
       "      <th>1</th>\n",
       "      <td>10248</td>\n",
       "      <td>42</td>\n",
       "      <td>9.8</td>\n",
       "      <td>10</td>\n",
       "      <td>0.00</td>\n",
       "      <td>2012-07-04</td>\n",
       "      <td>2012-07-16</td>\n",
       "      <td>2012-08-01</td>\n",
       "      <td>Buchanan</td>\n",
       "      <td>Sales Manager</td>\n",
       "      <td>London</td>\n",
       "      <td>UK</td>\n",
       "      <td>5</td>\n",
       "      <td>98.0</td>\n",
       "      <td>98.00</td>\n",
       "      <td>0.00</td>\n",
       "      <td>0</td>\n",
       "    </tr>\n",
       "    <tr>\n",
       "      <th>2</th>\n",
       "      <td>10248</td>\n",
       "      <td>72</td>\n",
       "      <td>34.8</td>\n",
       "      <td>5</td>\n",
       "      <td>0.00</td>\n",
       "      <td>2012-07-04</td>\n",
       "      <td>2012-07-16</td>\n",
       "      <td>2012-08-01</td>\n",
       "      <td>Buchanan</td>\n",
       "      <td>Sales Manager</td>\n",
       "      <td>London</td>\n",
       "      <td>UK</td>\n",
       "      <td>5</td>\n",
       "      <td>174.0</td>\n",
       "      <td>174.00</td>\n",
       "      <td>0.00</td>\n",
       "      <td>0</td>\n",
       "    </tr>\n",
       "    <tr>\n",
       "      <th>3</th>\n",
       "      <td>10249</td>\n",
       "      <td>14</td>\n",
       "      <td>18.6</td>\n",
       "      <td>9</td>\n",
       "      <td>0.00</td>\n",
       "      <td>2012-07-05</td>\n",
       "      <td>2012-07-10</td>\n",
       "      <td>2012-08-16</td>\n",
       "      <td>Suyama</td>\n",
       "      <td>Sales Representative</td>\n",
       "      <td>London</td>\n",
       "      <td>UK</td>\n",
       "      <td>6</td>\n",
       "      <td>167.4</td>\n",
       "      <td>167.40</td>\n",
       "      <td>0.00</td>\n",
       "      <td>0</td>\n",
       "    </tr>\n",
       "    <tr>\n",
       "      <th>4</th>\n",
       "      <td>10249</td>\n",
       "      <td>51</td>\n",
       "      <td>42.4</td>\n",
       "      <td>40</td>\n",
       "      <td>0.00</td>\n",
       "      <td>2012-07-05</td>\n",
       "      <td>2012-07-10</td>\n",
       "      <td>2012-08-16</td>\n",
       "      <td>Suyama</td>\n",
       "      <td>Sales Representative</td>\n",
       "      <td>London</td>\n",
       "      <td>UK</td>\n",
       "      <td>6</td>\n",
       "      <td>1696.0</td>\n",
       "      <td>1696.00</td>\n",
       "      <td>0.00</td>\n",
       "      <td>0</td>\n",
       "    </tr>\n",
       "    <tr>\n",
       "      <th>5</th>\n",
       "      <td>10250</td>\n",
       "      <td>41</td>\n",
       "      <td>7.7</td>\n",
       "      <td>10</td>\n",
       "      <td>0.00</td>\n",
       "      <td>2012-07-08</td>\n",
       "      <td>2012-07-12</td>\n",
       "      <td>2012-08-05</td>\n",
       "      <td>Peacock</td>\n",
       "      <td>Sales Representative</td>\n",
       "      <td>Redmond</td>\n",
       "      <td>USA</td>\n",
       "      <td>4</td>\n",
       "      <td>77.0</td>\n",
       "      <td>77.00</td>\n",
       "      <td>0.00</td>\n",
       "      <td>0</td>\n",
       "    </tr>\n",
       "    <tr>\n",
       "      <th>6</th>\n",
       "      <td>10250</td>\n",
       "      <td>51</td>\n",
       "      <td>42.4</td>\n",
       "      <td>35</td>\n",
       "      <td>0.15</td>\n",
       "      <td>2012-07-08</td>\n",
       "      <td>2012-07-12</td>\n",
       "      <td>2012-08-05</td>\n",
       "      <td>Peacock</td>\n",
       "      <td>Sales Representative</td>\n",
       "      <td>Redmond</td>\n",
       "      <td>USA</td>\n",
       "      <td>4</td>\n",
       "      <td>1484.0</td>\n",
       "      <td>1261.40</td>\n",
       "      <td>222.60</td>\n",
       "      <td>1</td>\n",
       "    </tr>\n",
       "    <tr>\n",
       "      <th>7</th>\n",
       "      <td>10250</td>\n",
       "      <td>65</td>\n",
       "      <td>16.8</td>\n",
       "      <td>15</td>\n",
       "      <td>0.15</td>\n",
       "      <td>2012-07-08</td>\n",
       "      <td>2012-07-12</td>\n",
       "      <td>2012-08-05</td>\n",
       "      <td>Peacock</td>\n",
       "      <td>Sales Representative</td>\n",
       "      <td>Redmond</td>\n",
       "      <td>USA</td>\n",
       "      <td>4</td>\n",
       "      <td>252.0</td>\n",
       "      <td>214.20</td>\n",
       "      <td>37.80</td>\n",
       "      <td>1</td>\n",
       "    </tr>\n",
       "    <tr>\n",
       "      <th>8</th>\n",
       "      <td>10251</td>\n",
       "      <td>22</td>\n",
       "      <td>16.8</td>\n",
       "      <td>6</td>\n",
       "      <td>0.05</td>\n",
       "      <td>2012-07-08</td>\n",
       "      <td>2012-07-15</td>\n",
       "      <td>2012-08-05</td>\n",
       "      <td>Leverling</td>\n",
       "      <td>Sales Representative</td>\n",
       "      <td>Kirkland</td>\n",
       "      <td>USA</td>\n",
       "      <td>3</td>\n",
       "      <td>100.8</td>\n",
       "      <td>95.76</td>\n",
       "      <td>5.04</td>\n",
       "      <td>1</td>\n",
       "    </tr>\n",
       "    <tr>\n",
       "      <th>9</th>\n",
       "      <td>10251</td>\n",
       "      <td>57</td>\n",
       "      <td>15.6</td>\n",
       "      <td>15</td>\n",
       "      <td>0.05</td>\n",
       "      <td>2012-07-08</td>\n",
       "      <td>2012-07-15</td>\n",
       "      <td>2012-08-05</td>\n",
       "      <td>Leverling</td>\n",
       "      <td>Sales Representative</td>\n",
       "      <td>Kirkland</td>\n",
       "      <td>USA</td>\n",
       "      <td>3</td>\n",
       "      <td>234.0</td>\n",
       "      <td>222.30</td>\n",
       "      <td>11.70</td>\n",
       "      <td>1</td>\n",
       "    </tr>\n",
       "  </tbody>\n",
       "</table>\n",
       "</div>"
      ],
      "text/plain": [
       "   OrderId  ProductId  UnitPrice  Quantity  Discount   OrderDate ShippedDate  \\\n",
       "0    10248         11       14.0        12      0.00  2012-07-04  2012-07-16   \n",
       "1    10248         42        9.8        10      0.00  2012-07-04  2012-07-16   \n",
       "2    10248         72       34.8         5      0.00  2012-07-04  2012-07-16   \n",
       "3    10249         14       18.6         9      0.00  2012-07-05  2012-07-10   \n",
       "4    10249         51       42.4        40      0.00  2012-07-05  2012-07-10   \n",
       "5    10250         41        7.7        10      0.00  2012-07-08  2012-07-12   \n",
       "6    10250         51       42.4        35      0.15  2012-07-08  2012-07-12   \n",
       "7    10250         65       16.8        15      0.15  2012-07-08  2012-07-12   \n",
       "8    10251         22       16.8         6      0.05  2012-07-08  2012-07-15   \n",
       "9    10251         57       15.6        15      0.05  2012-07-08  2012-07-15   \n",
       "\n",
       "  RequiredDate   LastName                 Title      City Country  Id  \\\n",
       "0   2012-08-01   Buchanan         Sales Manager    London      UK   5   \n",
       "1   2012-08-01   Buchanan         Sales Manager    London      UK   5   \n",
       "2   2012-08-01   Buchanan         Sales Manager    London      UK   5   \n",
       "3   2012-08-16     Suyama  Sales Representative    London      UK   6   \n",
       "4   2012-08-16     Suyama  Sales Representative    London      UK   6   \n",
       "5   2012-08-05    Peacock  Sales Representative   Redmond     USA   4   \n",
       "6   2012-08-05    Peacock  Sales Representative   Redmond     USA   4   \n",
       "7   2012-08-05    Peacock  Sales Representative   Redmond     USA   4   \n",
       "8   2012-08-05  Leverling  Sales Representative  Kirkland     USA   3   \n",
       "9   2012-08-05  Leverling  Sales Representative  Kirkland     USA   3   \n",
       "\n",
       "   ListRev  GrossRev  DiscVal  Disc_0_1  \n",
       "0    168.0    168.00     0.00         0  \n",
       "1     98.0     98.00     0.00         0  \n",
       "2    174.0    174.00     0.00         0  \n",
       "3    167.4    167.40     0.00         0  \n",
       "4   1696.0   1696.00     0.00         0  \n",
       "5     77.0     77.00     0.00         0  \n",
       "6   1484.0   1261.40   222.60         1  \n",
       "7    252.0    214.20    37.80         1  \n",
       "8    100.8     95.76     5.04         1  \n",
       "9    234.0    222.30    11.70         1  "
      ]
     },
     "execution_count": 15,
     "metadata": {},
     "output_type": "execute_result"
    }
   ],
   "source": [
    "cur.execute(\"\"\"SELECT OrderId, ProductId, UnitPrice, Quantity, Discount, OrderDate, ShippedDate, RequiredDate,\n",
    "                LastName, Title, City, Country, e.Id,\n",
    "                od.UnitPrice * od.Quantity AS 'ListRev',\n",
    "                od.UnitPrice * (1 - od.Discount) * od.Quantity AS 'GrossRev',\n",
    "                od.Discount * od.UnitPrice * od.Quantity AS 'DiscVal',\n",
    "                    CASE \n",
    "                    WHEN od.Discount == 0 THEN 0\n",
    "                    ELSE 1 \n",
    "                    END AS 'Disc_0_1'\n",
    "                FROM [OrderDetail] od\n",
    "                JOIN [Order] o\n",
    "                ON od.OrderId = o.Id\n",
    "                JOIN Employee e\n",
    "                ON e.Id = o.EmployeeId\"\"\");\n",
    "                      \n",
    "Emp_df = pd.DataFrame(cur.fetchall())\n",
    "Emp_df.columns = [i[0] for i in cur.description]\n",
    "print(len(Emp_df))\n",
    "Emp_df.head(10)"
   ]
  },
  {
   "cell_type": "code",
   "execution_count": null,
   "metadata": {},
   "outputs": [],
   "source": [
    "emp = Emp_df.groupby(Emp_df.LastName).agg({'Quantity': ['count', 'sum', 'mean'], 'GrossRev': 'sum', 'UnitPrice': 'mean', 'DiscVal': 'sum'})\n",
    "emp"
   ]
  },
  {
   "cell_type": "code",
   "execution_count": null,
   "metadata": {},
   "outputs": [],
   "source": [
    "cur.execute(\"\"\"SELECT DISTINCT\n",
    "                Id, FirstName, LastName, Title, City, Country\n",
    "                FROM Employee e\n",
    "                \"\"\");\n",
    "                      \n",
    "Emp_list = pd.DataFrame(cur.fetchall())\n",
    "Emp_list.columns = [i[0] for i in cur.description]\n",
    "Emp_list"
   ]
  },
  {
   "cell_type": "code",
   "execution_count": null,
   "metadata": {},
   "outputs": [],
   "source": [
    "drop fuller, buchanan, callahan"
   ]
  },
  {
   "cell_type": "code",
   "execution_count": null,
   "metadata": {},
   "outputs": [],
   "source": [
    "Emp_df2 = Emp_df.drop(Emp_df[(Emp_df['Id'] == 2) | (Emp_df['Id'] == 5) | (Emp_df['Id'] == 8)].index).sort_values('Country')\n",
    "Emp_df2.shape"
   ]
  },
  {
   "cell_type": "code",
   "execution_count": null,
   "metadata": {},
   "outputs": [],
   "source": [
    "# stacked bar - rev by employ, disc and non-disc\n",
    "\n",
    "plt.figure(figsize=(10,5))\n",
    "sum = Emp_df2.groupby('LastName')['GrossRev'].sum()\n",
    "sum.plot.bar(x='LastName', y='GrossRev', color='darkorange')\n",
    "plt.xticks(rotation=30)\n",
    "plt.show();"
   ]
  },
  {
   "cell_type": "code",
   "execution_count": null,
   "metadata": {},
   "outputs": [],
   "source": [
    "area - total rev by employee"
   ]
  },
  {
   "cell_type": "code",
   "execution_count": null,
   "metadata": {
    "scrolled": true
   },
   "outputs": [],
   "source": [
    "plt.figure(figsize=(10,5))\n",
    "sns.barplot(x='LastName', y='Quantity', data=Emp_df2, hue='Country')\n",
    "plt.xticks(rotation=30)\n",
    "plt.show();"
   ]
  },
  {
   "cell_type": "code",
   "execution_count": null,
   "metadata": {},
   "outputs": [],
   "source": [
    "plt.figure(figsize=(10,5))\n",
    "sns.barplot(x='LastName', y='GrossRev', data=Emp_df2, hue='Country')\n",
    "plt.xticks(rotation=30)\n",
    "plt.show();"
   ]
  },
  {
   "cell_type": "code",
   "execution_count": null,
   "metadata": {
    "scrolled": true
   },
   "outputs": [],
   "source": [
    "plt.figure(figsize=(10,5))\n",
    "sns.barplot(x='LastName', y='DiscVal', data=Emp_df2, hue='Country')\n",
    "plt.xticks(rotation=30)\n",
    "plt.show();"
   ]
  },
  {
   "cell_type": "code",
   "execution_count": null,
   "metadata": {},
   "outputs": [],
   "source": []
  },
  {
   "cell_type": "markdown",
   "metadata": {},
   "source": [
    "## Experiment, Testing and Interpret"
   ]
  },
  {
   "cell_type": "markdown",
   "metadata": {},
   "source": [
    "In the experiment section we will test against our **$H_{0}$ Null Hypothesis** that discounts have no effect on sales order quantity."
   ]
  },
  {
   "cell_type": "markdown",
   "metadata": {},
   "source": [
    "We will perform four test in the experiment section. We are performing a one-tail test - as we are interested in whether discounts **increase** order quantity, rather than whether they change (increase or decrease) order quantity.\n",
    "\n",
    "### 1. Welch's t-test\n",
    "Used to compare the means of two groups of samples when the variances are different.\n",
    "\n",
    "### 2. Cohen's d\n",
    "Used to measure the effect size, or the strength of the relationship between the two samples. It measured the standardize difference between two means.\n",
    "\n",
    "### 3. ANOVA\n",
    "ANOVA (Analysis of Variance) is a method for generalizing statistical tests to multiple groups. ANOVA analyses the overall variance of a dataset. It is useful for testing more than two means - all discount groups in our example.\n",
    "\n",
    "### 4. Tukey Test\n",
    "Is used after an ANOVA test. While an ANOVA test can tell you whether your results are significant overall, it won’t tell significance within groups. This test compares all possible pairs of means."
   ]
  },
  {
   "cell_type": "markdown",
   "metadata": {},
   "source": [
    "### Welch's t-test"
   ]
  },
  {
   "cell_type": "code",
   "execution_count": null,
   "metadata": {},
   "outputs": [],
   "source": [
    "Welch_ttest = stat.ttest_ind(No_Discount_Qty, Discount_Qty, equal_var=False)\n",
    "print(Welch_ttest)\n",
    "print(\"This is a 2-tail test. To get the p-value for a one-tail test we divide by 2. \\np-value is:\", \n",
    "      round(Welch_ttest[1]/2,14))"
   ]
  },
  {
   "cell_type": "markdown",
   "metadata": {},
   "source": [
    "#### Interpretation\n",
    "We get a p-value of 2.8282e-10, this is less than our $\\alpha = 0.05$\n",
    "\n",
    "Since $p < \\alpha$ we reject the Null Hypothesis that discount has no effect on order quantity. There is statistical evidence at the 5% level of significance that the mean order quantity of discounted orders is greater than the mean order quantity with no discount.\n"
   ]
  },
  {
   "cell_type": "markdown",
   "metadata": {},
   "source": [
    "### Cohen's d"
   ]
  },
  {
   "cell_type": "code",
   "execution_count": null,
   "metadata": {},
   "outputs": [],
   "source": [
    "# Cohen's d formula\n",
    "\n",
    "def Cohen_d(group1, group2):\n",
    "    diff = group1.mean() - group2.mean()\n",
    "\n",
    "    n1, n2 = len(group1), len(group2)\n",
    "    var1 = group1.var()\n",
    "    var2 = group2.var()\n",
    "\n",
    "    # Calculate the pooled variance\n",
    "    pooled_var = (n1 * var1 + n2 * var2) / (n1 + n2)\n",
    "    \n",
    "    # Calculate Cohen's d statistic\n",
    "    d = diff / np.sqrt(pooled_var)\n",
    "    \n",
    "    return d"
   ]
  },
  {
   "cell_type": "code",
   "execution_count": null,
   "metadata": {
    "scrolled": true
   },
   "outputs": [],
   "source": [
    "Cohen_d(Discount_Qty, No_Discount_Qty)"
   ]
  },
  {
   "cell_type": "markdown",
   "metadata": {},
   "source": [
    "#### Interpretation\n",
    "\n",
    "Cohen provided some general “rule of thumb” guidelines (which should be used cautiously):\n",
    "\n",
    "Small effect = 0.2\n",
    "Medium Effect = 0.5\n",
    "Large Effect = 0.8\n",
    "\n",
    "Based on these guidelines we can say that discounts have a **small** statistically significant effect on order quantity"
   ]
  },
  {
   "cell_type": "markdown",
   "metadata": {},
   "source": [
    "### ANOVA"
   ]
  },
  {
   "cell_type": "code",
   "execution_count": null,
   "metadata": {},
   "outputs": [],
   "source": [
    "import statsmodels.api as sm\n",
    "from statsmodels.formula.api import ols"
   ]
  },
  {
   "cell_type": "code",
   "execution_count": null,
   "metadata": {},
   "outputs": [],
   "source": [
    "f1 = 'Disc_Group'\n",
    "f2 = 'Quantity'"
   ]
  },
  {
   "cell_type": "code",
   "execution_count": null,
   "metadata": {},
   "outputs": [],
   "source": [
    "formula = '{} ~ C({})'.format(f2, f1)\n",
    "lm = ols(formula, ord_det).fit()\n",
    "table = sm.stats.anova_lm(lm, typ=2)\n",
    "print(table)"
   ]
  },
  {
   "cell_type": "markdown",
   "metadata": {},
   "source": [
    "#### Interpretation\n",
    "With ANOVA we are testing whether there is a significant difference between discount groups.\n",
    "The model gives us a p-value of 1.8167e-08, which is less than our $\\alpha = 0.05$. We can reject the Null Hypothesis that there is no difference between groups. We don't know which specific levels of discount are significant, only that in total they are significant."
   ]
  },
  {
   "cell_type": "markdown",
   "metadata": {},
   "source": [
    "### Tukey test"
   ]
  },
  {
   "cell_type": "code",
   "execution_count": null,
   "metadata": {},
   "outputs": [],
   "source": [
    "mc = MultiComparison(ord_det.Quantity, ord_det.Disc_Group)\n",
    "result = mc.tukeyhsd()\n",
    " \n",
    "print(result)\n",
    "print(mc.groupsunique)"
   ]
  },
  {
   "cell_type": "markdown",
   "metadata": {},
   "source": [
    "#### Interpretation\n",
    "Discount levels of 5%, 15%, 20% and 25% produce a significant difference compared against no discount. However, there is no significant difference between the different levels of discount."
   ]
  },
  {
   "cell_type": "markdown",
   "metadata": {},
   "source": [
    "## Conclusion"
   ]
  },
  {
   "cell_type": "markdown",
   "metadata": {},
   "source": [
    "* There is sufficent evidence to reject the Null Hypothesis that discounts have no effect. Discounts produce a small statistically significant effect on the mean order quantity.\n",
    "* In particular discount amounts of 5%, 15%, 20% and 25% have a significant effect compared with no discount. There is no significant effect between discounts - a 5% discount appears to have the same effect as a 25% discount."
   ]
  },
  {
   "cell_type": "markdown",
   "metadata": {},
   "source": [
    "## Tests"
   ]
  },
  {
   "cell_type": "code",
   "execution_count": null,
   "metadata": {},
   "outputs": [],
   "source": []
  },
  {
   "cell_type": "code",
   "execution_count": null,
   "metadata": {},
   "outputs": [],
   "source": []
  },
  {
   "cell_type": "markdown",
   "metadata": {},
   "source": [
    "# Hypothesis #4: Regions"
   ]
  },
  {
   "cell_type": "markdown",
   "metadata": {},
   "source": [
    "## $H_{0}$ Null Hypothesis\n",
    "**Discounts have no effect on sales order quantity.**\n",
    "\n",
    "## $H_{1}$ Alternative Hypothesis\n",
    "**Discounts lead to an increase in sales order quantity**"
   ]
  },
  {
   "cell_type": "code",
   "execution_count": null,
   "metadata": {},
   "outputs": [],
   "source": []
  },
  {
   "cell_type": "code",
   "execution_count": null,
   "metadata": {},
   "outputs": [],
   "source": [
    "# Getting data for region\n",
    "# There is no difference in revenue by region"
   ]
  },
  {
   "cell_type": "code",
   "execution_count": null,
   "metadata": {},
   "outputs": [],
   "source": [
    "# reload table from source"
   ]
  },
  {
   "cell_type": "code",
   "execution_count": null,
   "metadata": {},
   "outputs": [],
   "source": [
    "cur.execute(\"\"\"SELECT OrderId, ProductId, UnitPrice, Quantity, Discount,\n",
    "                City, Country, Region,\n",
    "                od.UnitPrice * od.Quantity AS 'ListRev',\n",
    "                od.UnitPrice * (1 - od.Discount) * od.Quantity AS 'GrossRev',\n",
    "                od.Discount * od.UnitPrice * od.Quantity AS 'DiscVal',\n",
    "                    CASE \n",
    "                    WHEN od.Discount == 0 THEN 0\n",
    "                    ELSE 1 \n",
    "                    END AS 'Disc_0_1'\n",
    "                FROM [OrderDetail] od\n",
    "                LEFT JOIN [Order] o\n",
    "                ON od.OrderId = o.Id\n",
    "                LEFT JOIN Customer c\n",
    "                ON c.Id = o.CustomerId\"\"\");\n",
    "                      \n",
    "Cust_Reg_df = pd.DataFrame(cur.fetchall())\n",
    "Cust_Reg_df.columns = [i[0] for i in cur.description]\n",
    "print(len(Cust_Reg_df))\n",
    "Cust_Reg_df.head(10)"
   ]
  },
  {
   "cell_type": "code",
   "execution_count": null,
   "metadata": {
    "scrolled": true
   },
   "outputs": [],
   "source": [
    "Cust_Reg_df.isna().sum()"
   ]
  },
  {
   "cell_type": "code",
   "execution_count": null,
   "metadata": {},
   "outputs": [],
   "source": [
    "cur.execute(\"\"\"SELECT DISTINCT CustomerId, c.Id AS Cust_Table_Id, City, Country\n",
    "                FROM [OrderDetail] od\n",
    "                LEFT JOIN [Order] o\n",
    "                ON od.OrderId = o.Id\n",
    "                LEFT JOIN Customer c\n",
    "                ON c.Id = o.CustomerId\n",
    "                WHERE City IS NULL\"\"\");\n",
    "                      \n",
    "Miss_Reg_df = pd.DataFrame(cur.fetchall())\n",
    "Miss_Reg_df.columns = [i[0] for i in cur.description]\n",
    "print(len(Miss_Reg_df))\n",
    "Miss_Reg_df.head(10)"
   ]
  },
  {
   "cell_type": "code",
   "execution_count": null,
   "metadata": {},
   "outputs": [],
   "source": [
    "cur.execute(\"\"\"SELECT Id, CompanyName\n",
    "                FROM [Customer] \n",
    "                WHERE Id LIKE 'DUMO%' \n",
    "                OR Id LIKE 'ANTO%'\n",
    "                OR Id LIKE 'QUEE%' \n",
    "                OR Id LIKE 'OCEA%' \"\"\");\n",
    "df = pd.DataFrame(cur.fetchall())\n",
    "df"
   ]
  },
  {
   "cell_type": "code",
   "execution_count": null,
   "metadata": {},
   "outputs": [],
   "source": [
    "# This works for select, but doesn't update\n",
    "\n",
    "# cur.execute(\"\"\"SELECT CustomerId,\n",
    "#                 REPLACE (\n",
    "#                 REPLACE (\n",
    "#                 REPLACE (\n",
    "#                 REPLACE (CustomerId, 'DUMO', 'DUMON'), \n",
    "#                 'ANTO', 'ANTON'),\n",
    "#                 'QUEE', 'QUEEN'),\n",
    "#                 'OCEA', 'OCEAN')\n",
    "#                 FROM [Order] \"\"\");"
   ]
  },
  {
   "cell_type": "code",
   "execution_count": null,
   "metadata": {},
   "outputs": [],
   "source": [
    "cur.execute(\"\"\"UPDATE [Order] \n",
    "                SET CustomerId = 'DUMON'\n",
    "                WHERE CustomerId = 'DUMO'\n",
    "                \"\"\");"
   ]
  },
  {
   "cell_type": "code",
   "execution_count": null,
   "metadata": {},
   "outputs": [],
   "source": [
    "cur.execute(\"\"\"UPDATE [Order] \n",
    "                SET CustomerId = 'ANTON'\n",
    "                WHERE CustomerId = 'ANTO'\n",
    "                \"\"\");"
   ]
  },
  {
   "cell_type": "code",
   "execution_count": null,
   "metadata": {},
   "outputs": [],
   "source": [
    "cur.execute(\"\"\"UPDATE [Order] \n",
    "                SET CustomerId = 'QUEEN'\n",
    "                WHERE CustomerId = 'QUEE'\n",
    "                \"\"\");"
   ]
  },
  {
   "cell_type": "code",
   "execution_count": null,
   "metadata": {},
   "outputs": [],
   "source": [
    "cur.execute(\"\"\"UPDATE [Order] \n",
    "                SET CustomerId = 'OCEAN'\n",
    "                WHERE CustomerId = 'OCEA'\n",
    "                \"\"\");"
   ]
  },
  {
   "cell_type": "code",
   "execution_count": null,
   "metadata": {},
   "outputs": [],
   "source": [
    "cur.execute(\"\"\"SELECT COUNT(CompanyName), Country, Region \n",
    "                FROM [Customer] \n",
    "                GROUP BY Country \n",
    "                ORDER By Region\"\"\");\n",
    "df = pd.DataFrame(cur.fetchall())\n",
    "df"
   ]
  },
  {
   "cell_type": "code",
   "execution_count": null,
   "metadata": {},
   "outputs": [],
   "source": [
    "cur.execute(\"\"\"SELECT Region, COUNT(CompanyName) AS 'Num_Cust'\n",
    "                FROM [Customer] \n",
    "                GROUP BY Region \n",
    "                ORDER By Region\"\"\");\n",
    "count_df = pd.DataFrame(cur.fetchall())\n",
    "count_df.columns = [i[0] for i in cur.description]\n",
    "count_df"
   ]
  },
  {
   "cell_type": "code",
   "execution_count": null,
   "metadata": {
    "scrolled": true
   },
   "outputs": [],
   "source": [
    "plt.figure(figsize=(10,5))\n",
    "plt.bar(count_df.Region, count_df.Num_Cust)\n",
    "plt.xticks(rotation=30)\n",
    "plt.show();"
   ]
  },
  {
   "cell_type": "code",
   "execution_count": null,
   "metadata": {},
   "outputs": [],
   "source": [
    "cur.execute(\"\"\"SELECT OrderId, ProductId, UnitPrice, Quantity, Discount,\n",
    "                City, Country, Region,\n",
    "                od.UnitPrice * od.Quantity AS 'ListRev',\n",
    "                od.UnitPrice * (1 - od.Discount) * od.Quantity AS 'GrossRev',\n",
    "                od.Discount * od.UnitPrice * od.Quantity AS 'DiscVal',\n",
    "                    CASE \n",
    "                    WHEN od.Discount == 0 THEN 0\n",
    "                    ELSE 1 \n",
    "                    END AS 'Disc_0_1'\n",
    "                FROM [OrderDetail] od\n",
    "                LEFT JOIN [Order] o\n",
    "                ON od.OrderId = o.Id\n",
    "                LEFT JOIN Customer c\n",
    "                ON c.Id = o.CustomerId\"\"\");\n",
    "                      \n",
    "Cust_Reg_df = pd.DataFrame(cur.fetchall())\n",
    "Cust_Reg_df.columns = [i[0] for i in cur.description]\n",
    "print(len(Cust_Reg_df))\n",
    "Cust_Reg_df.head()"
   ]
  },
  {
   "cell_type": "code",
   "execution_count": null,
   "metadata": {},
   "outputs": [],
   "source": [
    "Cust_Reg_df['Continent'] = np.where(Cust_Reg_df['Region'].str.contains('America'), 'America', 'Europe')"
   ]
  },
  {
   "cell_type": "code",
   "execution_count": null,
   "metadata": {},
   "outputs": [],
   "source": [
    "Cust_Reg_df = Cust_Reg_df.sort_values(['Continent','Region', 'Country'])\n"
   ]
  },
  {
   "cell_type": "code",
   "execution_count": null,
   "metadata": {},
   "outputs": [],
   "source": [
    "cntry_sum = Cust_Reg_df.groupby(['Country']).sum()\n",
    "cntry_sum"
   ]
  },
  {
   "cell_type": "code",
   "execution_count": null,
   "metadata": {},
   "outputs": [],
   "source": [
    "lat = [-38.4161, \n",
    "47.5162, \n",
    "50.5039, \n",
    "-14.235, \n",
    "56.1304, \n",
    "56.2639, \n",
    "61.9241, \n",
    "46.2276, \n",
    "51.1657, \n",
    "53.1424, \n",
    "41.8719, \n",
    "23.6345, \n",
    "60.472, \n",
    "51.9194, \n",
    "39.3999, \n",
    "40.4637, \n",
    "60.1282, \n",
    "46.8182, \n",
    "55.3781, \n",
    "37.0902, \n",
    "6.4238 \n",
    "]"
   ]
  },
  {
   "cell_type": "code",
   "execution_count": null,
   "metadata": {},
   "outputs": [],
   "source": [
    "cntry_sum['Latitude'] = lat"
   ]
  },
  {
   "cell_type": "code",
   "execution_count": null,
   "metadata": {},
   "outputs": [],
   "source": [
    "long = [-63.6167, \n",
    "14.5501, \n",
    "4.4699, \n",
    "-51.9253, \n",
    "-106.3468, \n",
    "9.5018, \n",
    "25.7482, \n",
    "2.2137, \n",
    "10.4515, \n",
    "-7.6921, \n",
    "12.5674, \n",
    "-102.5528, \n",
    "8.4689, \n",
    "19.1451, \n",
    "-8.2245, \n",
    "-3.7492, \n",
    "18.6435, \n",
    "8.2275, \n",
    "-3.436, \n",
    "-95.7129, \n",
    "-66.5897 ]\n"
   ]
  },
  {
   "cell_type": "code",
   "execution_count": null,
   "metadata": {},
   "outputs": [],
   "source": [
    "cntry_sum['Longitude'] = long"
   ]
  },
  {
   "cell_type": "code",
   "execution_count": null,
   "metadata": {},
   "outputs": [],
   "source": [
    "cntry_sum"
   ]
  },
  {
   "cell_type": "code",
   "execution_count": null,
   "metadata": {},
   "outputs": [],
   "source": [
    "# Make a data frame with dots to show on the map\n",
    "data = cntry_sum\n",
    " \n",
    "# Make an empty map\n",
    "m = folium.Map(location=[30, -30], zoom_start=3)\n",
    " \n",
    "# I can add marker one by one on the map\n",
    "for i in range(0,len(data)):\n",
    "    folium.CircleMarker([data.iloc[i]['Latitude'], data.iloc[i]['Longitude']],\n",
    "                radius=data.iloc[i]['GrossRev']/10000,\n",
    "                color='darkorange',\n",
    "                fill=True,\n",
    "                fill_color='darkorange'\n",
    "                ).add_to(m)\n",
    "\n",
    "m.save('mymap.html')\n",
    "m"
   ]
  },
  {
   "cell_type": "code",
   "execution_count": null,
   "metadata": {
    "scrolled": true
   },
   "outputs": [],
   "source": [
    "cntry = Cust_Reg_df.groupby(['Continent','Region', 'Country']).agg({'Quantity': ['count', 'sum', 'mean'], 'GrossRev': 'sum', 'UnitPrice': 'mean', 'DiscVal': 'sum'})\n",
    "cntry"
   ]
  },
  {
   "cell_type": "code",
   "execution_count": null,
   "metadata": {},
   "outputs": [],
   "source": [
    "df1=Cust_Reg_df.groupby(['Region'])['GrossRev','DiscVal'].sum()\n",
    "df1.plot(kind='bar',stacked=True,legend=True);\n"
   ]
  },
  {
   "cell_type": "code",
   "execution_count": null,
   "metadata": {},
   "outputs": [],
   "source": [
    "df2=Cust_Reg_df.groupby(['Region'])['GrossRev','DiscVal'].mean()\n",
    "df2.plot(kind='bar',stacked=True,legend=True);\n"
   ]
  },
  {
   "cell_type": "code",
   "execution_count": null,
   "metadata": {
    "scrolled": true
   },
   "outputs": [],
   "source": [
    "reg = Cust_Reg_df.groupby(['Continent']).agg({'Quantity': ['count', 'sum', 'mean'], 'GrossRev': ['count', 'sum', 'mean'], 'UnitPrice': 'mean', 'DiscVal': 'sum'})\n",
    "reg"
   ]
  },
  {
   "cell_type": "code",
   "execution_count": null,
   "metadata": {},
   "outputs": [],
   "source": [
    "# ave order quantity by region"
   ]
  },
  {
   "cell_type": "code",
   "execution_count": null,
   "metadata": {},
   "outputs": [],
   "source": []
  },
  {
   "cell_type": "markdown",
   "metadata": {},
   "source": [
    "## Experiment, Testing and Interpret"
   ]
  },
  {
   "cell_type": "markdown",
   "metadata": {},
   "source": [
    "In the experiment section we will test against our **$H_{0}$ Null Hypothesis** that discounts have no effect on sales order quantity."
   ]
  },
  {
   "cell_type": "markdown",
   "metadata": {},
   "source": [
    "We will perform four test in the experiment section. We are performing a one-tail test - as we are interested in whether discounts **increase** order quantity, rather than whether they change (increase or decrease) order quantity.\n",
    "\n",
    "### 1. Welch's t-test\n",
    "Used to compare the means of two groups of samples when the variances are different.\n",
    "\n",
    "### 2. Cohen's d\n",
    "Used to measure the effect size, or the strength of the relationship between the two samples. It measured the standardize difference between two means.\n",
    "\n",
    "### 3. ANOVA\n",
    "ANOVA (Analysis of Variance) is a method for generalizing statistical tests to multiple groups. ANOVA analyses the overall variance of a dataset. It is useful for testing more than two means - all discount groups in our example.\n",
    "\n",
    "### 4. Tukey Test\n",
    "Is used after an ANOVA test. While an ANOVA test can tell you whether your results are significant overall, it won’t tell significance within groups. This test compares all possible pairs of means."
   ]
  },
  {
   "cell_type": "markdown",
   "metadata": {},
   "source": [
    "### Welch's t-test"
   ]
  },
  {
   "cell_type": "code",
   "execution_count": null,
   "metadata": {},
   "outputs": [],
   "source": [
    "Welch_ttest = stat.ttest_ind(No_Discount_Qty, Discount_Qty, equal_var=False)\n",
    "print(Welch_ttest)\n",
    "print(\"This is a 2-tail test. To get the p-value for a one-tail test we divide by 2. \\np-value is:\", \n",
    "      round(Welch_ttest[1]/2,14))"
   ]
  },
  {
   "cell_type": "markdown",
   "metadata": {},
   "source": [
    "#### Interpretation\n",
    "We get a p-value of 2.8282e-10, this is less than our $\\alpha = 0.05$\n",
    "\n",
    "Since $p < \\alpha$ we reject the Null Hypothesis that discount has no effect on order quantity. There is statistical evidence at the 5% level of significance that the mean order quantity of discounted orders is greater than the mean order quantity with no discount.\n"
   ]
  },
  {
   "cell_type": "markdown",
   "metadata": {},
   "source": [
    "### Cohen's d"
   ]
  },
  {
   "cell_type": "code",
   "execution_count": null,
   "metadata": {},
   "outputs": [],
   "source": [
    "# Cohen's d formula\n",
    "\n",
    "def Cohen_d(group1, group2):\n",
    "    diff = group1.mean() - group2.mean()\n",
    "\n",
    "    n1, n2 = len(group1), len(group2)\n",
    "    var1 = group1.var()\n",
    "    var2 = group2.var()\n",
    "\n",
    "    # Calculate the pooled variance\n",
    "    pooled_var = (n1 * var1 + n2 * var2) / (n1 + n2)\n",
    "    \n",
    "    # Calculate Cohen's d statistic\n",
    "    d = diff / np.sqrt(pooled_var)\n",
    "    \n",
    "    return d"
   ]
  },
  {
   "cell_type": "code",
   "execution_count": null,
   "metadata": {
    "scrolled": true
   },
   "outputs": [],
   "source": [
    "Cohen_d(Discount_Qty, No_Discount_Qty)"
   ]
  },
  {
   "cell_type": "markdown",
   "metadata": {},
   "source": [
    "#### Interpretation\n",
    "\n",
    "Cohen provided some general “rule of thumb” guidelines (which should be used cautiously):\n",
    "\n",
    "Small effect = 0.2\n",
    "Medium Effect = 0.5\n",
    "Large Effect = 0.8\n",
    "\n",
    "Based on these guidelines we can say that discounts have a **small** statistically significant effect on order quantity"
   ]
  },
  {
   "cell_type": "markdown",
   "metadata": {},
   "source": [
    "### ANOVA"
   ]
  },
  {
   "cell_type": "code",
   "execution_count": null,
   "metadata": {},
   "outputs": [],
   "source": [
    "import statsmodels.api as sm\n",
    "from statsmodels.formula.api import ols"
   ]
  },
  {
   "cell_type": "code",
   "execution_count": null,
   "metadata": {},
   "outputs": [],
   "source": [
    "f1 = 'Disc_Group'\n",
    "f2 = 'Quantity'"
   ]
  },
  {
   "cell_type": "code",
   "execution_count": null,
   "metadata": {},
   "outputs": [],
   "source": [
    "formula = '{} ~ C({})'.format(f2, f1)\n",
    "lm = ols(formula, ord_det).fit()\n",
    "table = sm.stats.anova_lm(lm, typ=2)\n",
    "print(table)"
   ]
  },
  {
   "cell_type": "markdown",
   "metadata": {},
   "source": [
    "#### Interpretation\n",
    "With ANOVA we are testing whether there is a significant difference between discount groups.\n",
    "The model gives us a p-value of 1.8167e-08, which is less than our $\\alpha = 0.05$. We can reject the Null Hypothesis that there is no difference between groups. We don't know which specific levels of discount are significant, only that in total they are significant."
   ]
  },
  {
   "cell_type": "markdown",
   "metadata": {},
   "source": [
    "### Tukey test"
   ]
  },
  {
   "cell_type": "code",
   "execution_count": null,
   "metadata": {},
   "outputs": [],
   "source": [
    "mc = MultiComparison(ord_det.Quantity, ord_det.Disc_Group)\n",
    "result = mc.tukeyhsd()\n",
    " \n",
    "print(result)\n",
    "print(mc.groupsunique)"
   ]
  },
  {
   "cell_type": "markdown",
   "metadata": {},
   "source": [
    "#### Interpretation\n",
    "Discount levels of 5%, 15%, 20% and 25% produce a significant difference compared against no discount. However, there is no significant difference between the different levels of discount."
   ]
  },
  {
   "cell_type": "markdown",
   "metadata": {},
   "source": [
    "## Conclusion"
   ]
  },
  {
   "cell_type": "markdown",
   "metadata": {},
   "source": [
    "* There is sufficent evidence to reject the Null Hypothesis that discounts have no effect. Discounts produce a small statistically significant effect on the mean order quantity.\n",
    "* In particular discount amounts of 5%, 15%, 20% and 25% have a significant effect compared with no discount. There is no significant effect between discounts - a 5% discount appears to have the same effect as a 25% discount."
   ]
  },
  {
   "cell_type": "markdown",
   "metadata": {},
   "source": [
    "# Extra - delete from project"
   ]
  },
  {
   "cell_type": "code",
   "execution_count": null,
   "metadata": {},
   "outputs": [],
   "source": []
  },
  {
   "cell_type": "code",
   "execution_count": null,
   "metadata": {},
   "outputs": [],
   "source": [
    "# how to do in pandas - no longer necessary"
   ]
  },
  {
   "cell_type": "code",
   "execution_count": null,
   "metadata": {},
   "outputs": [],
   "source": [
    "ord_det['ListRev'] = ord_det['UnitPrice'] * ord_det['Quantity']"
   ]
  },
  {
   "cell_type": "code",
   "execution_count": null,
   "metadata": {},
   "outputs": [],
   "source": [
    "ord_det['GrossRev'] = ord_det['UnitPrice'] * ord_det['Quantity'] * (1 - (ord_det['Discount']))"
   ]
  },
  {
   "cell_type": "code",
   "execution_count": null,
   "metadata": {},
   "outputs": [],
   "source": [
    "ord_det['Disc_Val'] = ord_det['ListRev'] - ord_det['GrossRev']"
   ]
  },
  {
   "cell_type": "code",
   "execution_count": null,
   "metadata": {},
   "outputs": [],
   "source": [
    "ord_det['Disc_0_1'] = np.where(ord_det['Discount'] == 0, 0, 1)"
   ]
  },
  {
   "cell_type": "code",
   "execution_count": null,
   "metadata": {},
   "outputs": [],
   "source": [
    "ord_det.head(12)"
   ]
  },
  {
   "cell_type": "code",
   "execution_count": null,
   "metadata": {},
   "outputs": [],
   "source": [
    "# check column names - for personal exploration"
   ]
  },
  {
   "cell_type": "code",
   "execution_count": 5,
   "metadata": {},
   "outputs": [
    {
     "name": "stdout",
     "output_type": "stream",
     "text": [
      "\n",
      "tables are:\n",
      "   Category\n",
      "   Customer\n",
      "   CustomerCustomerDemo\n",
      "   CustomerDemographic\n",
      "   Employee\n",
      "   EmployeeTerritory\n",
      "   Order\n",
      "   OrderDetail\n",
      "   Product\n",
      "   Region\n",
      "   Shipper\n",
      "   Supplier\n",
      "   Territory\n",
      "\n",
      "column names for Category:\n",
      "   Id\n",
      "   CategoryName\n",
      "   Description\n",
      "\n",
      "column names for Customer:\n",
      "   Id\n",
      "   CompanyName\n",
      "   ContactName\n",
      "   ContactTitle\n",
      "   Address\n",
      "   City\n",
      "   Region\n",
      "   PostalCode\n",
      "   Country\n",
      "   Phone\n",
      "   Fax\n",
      "\n",
      "column names for CustomerCustomerDemo:\n",
      "   Id\n",
      "   CustomerTypeId\n",
      "\n",
      "column names for CustomerDemographic:\n",
      "   Id\n",
      "   CustomerDesc\n",
      "\n",
      "column names for Employee:\n",
      "   Id\n",
      "   LastName\n",
      "   FirstName\n",
      "   Title\n",
      "   TitleOfCourtesy\n",
      "   BirthDate\n",
      "   HireDate\n",
      "   Address\n",
      "   City\n",
      "   Region\n",
      "   PostalCode\n",
      "   Country\n",
      "   HomePhone\n",
      "   Extension\n",
      "   Photo\n",
      "   Notes\n",
      "   ReportsTo\n",
      "   PhotoPath\n",
      "\n",
      "column names for EmployeeTerritory:\n",
      "   Id\n",
      "   EmployeeId\n",
      "   TerritoryId\n",
      "\n",
      "column names for Order:\n",
      "   Id\n",
      "   CustomerId\n",
      "   EmployeeId\n",
      "   OrderDate\n",
      "   RequiredDate\n",
      "   ShippedDate\n",
      "   ShipVia\n",
      "   Freight\n",
      "   ShipName\n",
      "   ShipAddress\n",
      "   ShipCity\n",
      "   ShipRegion\n",
      "   ShipPostalCode\n",
      "   ShipCountry\n",
      "\n",
      "column names for OrderDetail:\n",
      "   Id\n",
      "   OrderId\n",
      "   ProductId\n",
      "   UnitPrice\n",
      "   Quantity\n",
      "   Discount\n",
      "\n",
      "column names for Product:\n",
      "   Id\n",
      "   ProductName\n",
      "   SupplierId\n",
      "   CategoryId\n",
      "   QuantityPerUnit\n",
      "   UnitPrice\n",
      "   UnitsInStock\n",
      "   UnitsOnOrder\n",
      "   ReorderLevel\n",
      "   Discontinued\n",
      "\n",
      "column names for Region:\n",
      "   Id\n",
      "   RegionDescription\n",
      "\n",
      "column names for Shipper:\n",
      "   Id\n",
      "   CompanyName\n",
      "   Phone\n",
      "\n",
      "column names for Supplier:\n",
      "   Id\n",
      "   CompanyName\n",
      "   ContactName\n",
      "   ContactTitle\n",
      "   Address\n",
      "   City\n",
      "   Region\n",
      "   PostalCode\n",
      "   Country\n",
      "   Phone\n",
      "   Fax\n",
      "   HomePage\n",
      "\n",
      "column names for Territory:\n",
      "   Id\n",
      "   TerritoryDescription\n",
      "   RegionId\n",
      "\n",
      "exiting.\n"
     ]
    }
   ],
   "source": [
    "db_filename = 'Northwind_small.sqlite'\n",
    "newline_indent = '\\n   '\n",
    "\n",
    "db=sqlite3.connect(db_filename)\n",
    "db.text_factory = str\n",
    "cur = db.cursor()\n",
    "\n",
    "result = cur.execute(\"SELECT name FROM sqlite_master WHERE type='table';\").fetchall()\n",
    "table_names = sorted(list(zip(*result))[0])\n",
    "print (\"\\ntables are:\"+newline_indent+newline_indent.join(table_names))\n",
    "\n",
    "for table_name in table_names:\n",
    "    result = cur.execute(\"PRAGMA table_info('%s')\" % table_name).fetchall()\n",
    "    column_names = list(zip(*result))[1]\n",
    "    print ((\"\\ncolumn names for %s:\" % table_name)\n",
    "           +newline_indent\n",
    "           +(newline_indent.join(column_names)))\n",
    "\n",
    "db.close()\n",
    "print (\"\\nexiting.\")"
   ]
  },
  {
   "cell_type": "code",
   "execution_count": null,
   "metadata": {},
   "outputs": [],
   "source": []
  },
  {
   "cell_type": "code",
   "execution_count": null,
   "metadata": {},
   "outputs": [],
   "source": [
    "# Multiple ttests - for my benefit. This is bad practice"
   ]
  },
  {
   "cell_type": "code",
   "execution_count": null,
   "metadata": {
    "scrolled": true
   },
   "outputs": [],
   "source": [
    "for group in ord_det.groupby(['Disc_Group'])['Quantity']:\n",
    "    group_name = group[0]\n",
    "    print(group_name)"
   ]
  },
  {
   "cell_type": "code",
   "execution_count": null,
   "metadata": {},
   "outputs": [],
   "source": [
    "from itertools import combinations\n",
    "\n",
    "groups = [group[0] for group in ord_det.groupby(['Disc_Group'])['Quantity']]\n",
    "combos = combinations(groups, 2)\n",
    "for combo in combos:\n",
    "    supp1 = combo[0]\n",
    "    supp2 = combo[1]\n",
    "    sample1 = ord_det[(ord_det.Disc_Group == supp1)]['Quantity']\n",
    "    sample2 = ord_det[(ord_det.Disc_Group == supp2)]['Quantity']\n",
    "    p = stats.ttest_ind(sample1, sample2, equal_var=False)\n",
    "    print(combo, p)"
   ]
  },
  {
   "cell_type": "code",
   "execution_count": null,
   "metadata": {
    "scrolled": true
   },
   "outputs": [],
   "source": [
    "# Check loop result\n",
    "disc_10 = ord_det[ord_det['Disc_Group']==0.10]\n",
    "Discount_10_Qty = disc_10['Quantity']\n",
    "stat.ttest_ind(No_Discount_Qty, Discount_10_Qty, equal_var=False)"
   ]
  },
  {
   "cell_type": "code",
   "execution_count": null,
   "metadata": {},
   "outputs": [],
   "source": []
  },
  {
   "cell_type": "code",
   "execution_count": null,
   "metadata": {},
   "outputs": [],
   "source": [
    "# Welch's t statistic - how to calculate manually\n",
    "\n",
    "import numpy as np\n",
    "import scipy.stats as stats\n",
    "\n",
    "def welch_t(a, b):\n",
    "    \n",
    "    \"\"\" Calculate Welch's t statistic for two samples. \"\"\"\n",
    "\n",
    "    numerator = a.mean() - b.mean()\n",
    "    \n",
    "    # “ddof = Delta Degrees of Freedom”: the divisor used in the calculation is N - ddof, \n",
    "    #  where N represents the number of elements. By default ddof is zero.\n",
    "    \n",
    "    denominator = np.sqrt(a.var(ddof=1)/a.size + b.var(ddof=1)/b.size)\n",
    "    \n",
    "    return np.abs(numerator/denominator)\n",
    "\n",
    "def welch_df(a, b):\n",
    "    \n",
    "    \"\"\" Calculate the effective degrees of freedom for two samples. This function returns the degrees of freedom \"\"\"\n",
    "    \n",
    "    s1 = a.var(ddof=1) \n",
    "    s2 = b.var(ddof=1)\n",
    "    n1 = a.size\n",
    "    n2 = b.size\n",
    "    \n",
    "    numerator = (s1/n1 + s2/n2)**2\n",
    "    denominator = (s1/ n1)**2/(n1 - 1) + (s2/ n2)**2/(n2 - 1)\n",
    "    \n",
    "    return numerator/denominator\n",
    "\n",
    "\n",
    "def p_value_welch_ttest(a, b, two_sided=False):\n",
    "    \"\"\"Calculates the p-value for Welch's t-test given two samples.\n",
    "    By default, the returned p-value is for a one-sided t-test. \n",
    "    Set the two-sided parameter to True if you wish to perform a two-sided t-test instead.\n",
    "    \"\"\"\n",
    "    t = welch_t(a, b)\n",
    "    df = welch_df(a, b)\n",
    "    \n",
    "    p = 1-stats.t.cdf(np.abs(t), df)\n",
    "    \n",
    "    if two_sided:\n",
    "        return 2*p\n",
    "    else:\n",
    "        return p"
   ]
  },
  {
   "cell_type": "code",
   "execution_count": null,
   "metadata": {
    "scrolled": true
   },
   "outputs": [],
   "source": [
    "p_value_welch_ttest(Discount_Qty, No_Discount_Qty)"
   ]
  },
  {
   "cell_type": "code",
   "execution_count": null,
   "metadata": {},
   "outputs": [],
   "source": []
  },
  {
   "cell_type": "code",
   "execution_count": null,
   "metadata": {},
   "outputs": [],
   "source": [
    "# Cohen's d simplified formula ()\n",
    "from statistics import mean, stdev\n",
    "from math import sqrt\n",
    "\n",
    "# test conditions\n",
    "c0 = Discount_Qty\n",
    "c1 = No_Discount_Qty\n",
    "\n",
    "cohens_d = (mean(c0) - mean(c1)) / (sqrt((stdev(c0) ** 2 + stdev(c1) ** 2) / 2))\n",
    "\n",
    "print(cohens_d)"
   ]
  },
  {
   "cell_type": "code",
   "execution_count": null,
   "metadata": {},
   "outputs": [],
   "source": []
  },
  {
   "cell_type": "code",
   "execution_count": null,
   "metadata": {},
   "outputs": [],
   "source": []
  },
  {
   "cell_type": "code",
   "execution_count": 16,
   "metadata": {},
   "outputs": [],
   "source": [
    "# How to export as a csvcat_summary\n",
    "Emp_df.to_csv (r'C:\\Users\\andrew\\Documents\\project2_df.csv', index = None, header=True)"
   ]
  },
  {
   "cell_type": "code",
   "execution_count": null,
   "metadata": {},
   "outputs": [],
   "source": [
    "df3=Cust_Reg_df.groupby(['Disc_0_1'])['GrossRev'].sum()\n",
    "df3\n",
    "\n",
    "# Follow up question. How to filter get total for orders with at least one line discounted"
   ]
  },
  {
   "cell_type": "code",
   "execution_count": null,
   "metadata": {},
   "outputs": [],
   "source": [
    "# SQL example\n",
    "region_count = cur.execute(\"\"\"SELECT COUNT(CompanyName), Region \n",
    "                FROM [Customer] \n",
    "                GROUP BY Region \n",
    "                ORDER By Region\"\"\"), cur.fetchall();\n",
    "region_count"
   ]
  },
  {
   "cell_type": "code",
   "execution_count": null,
   "metadata": {},
   "outputs": [],
   "source": [
    "for i, g in enumerate(Cust_Reg_df.groupby('Disc_0_1')):\n",
    "    ax = sns.barplot(data=g[1],\n",
    "                     x=\"Region\",\n",
    "                     y=\"GrossRev\",\n",
    "                     hue=\"Continent\"\n",
    "                     )\n",
    "ax.legend_.remove() # remove the redundant legends "
   ]
  },
  {
   "cell_type": "code",
   "execution_count": null,
   "metadata": {},
   "outputs": [],
   "source": [
    "# Make a data frame with dots to show on the map\n",
    "data = pd.DataFrame({\n",
    "'lat':[-58, 2, 145, 30.32, -4.03, -73.57, 36.82, -38.5],\n",
    "'lon':[-34, 49, -38, 59.93, 5.33, 45.52, -1.29, -12.97],\n",
    "'name':['Buenos Aires', 'Paris', 'melbourne', 'St Petersbourg', 'Abidjan', 'Montreal', 'Nairobi', 'Salvador'],\n",
    "'value':['10', '12', '15', '16', '8', '15', '21', '3']\n",
    "})\n",
    "data\n",
    " \n",
    "# Make an empty map\n",
    "m = folium.Map(location=[20, 0], zoom_start=2)\n",
    " \n",
    "# I can add marker one by one on the map\n",
    "for i in range(0,len(data)):\n",
    "    folium.CircleMarker([data.iloc[i]['lon'], data.iloc[i]['lat']], popup=data.iloc[i]['name'],\n",
    "                radius=data.iloc[i]['value'],\n",
    "                color='crimson',\n",
    "                fill=True,\n",
    "                fill_color='crimson'\n",
    "                ).add_to(m)\n",
    "\n",
    "m.save('mymap.html')\n",
    "m"
   ]
  },
  {
   "cell_type": "code",
   "execution_count": null,
   "metadata": {},
   "outputs": [],
   "source": [
    "# Super test - employee by region ... doesn't work, many to many joins\n",
    "# Delete this before draft to Victor"
   ]
  },
  {
   "cell_type": "code",
   "execution_count": null,
   "metadata": {},
   "outputs": [],
   "source": [
    "cur.execute(\"\"\"SELECT OrderId, ProductId, UnitPrice, Quantity, Discount,\n",
    "                c.City, c.Country, c.Region r.RegionDescription\n",
    "                FROM [OrderDetail] od\n",
    "                LEFT JOIN [Order] o\n",
    "                ON od.OrderId = o.Id\n",
    "                LEFT JOIN [Customer] c\n",
    "                ON c.Id = o.CustomerId\n",
    "                LEFT JOIN [Employee] e\n",
    "                ON e.Id = o.EmployeeId\n",
    "                LEFT JOIN [EmployeeTerritory] et\n",
    "                ON e.Id = et.EmployeeId\n",
    "                LEFT JOIN [Territory] t\n",
    "                ON t.Id = et.TerritoryId\n",
    "                LEFT JOIN [Region] r\n",
    "                ON r.Id = t.RegionId\"\"\");\n",
    "                      \n",
    "Cust_Reg_df = pd.DataFrame(cur.fetchall())\n",
    "Cust_Reg_df.columns = [i[0] for i in cur.description]\n",
    "print(len(Cust_Reg_df))\n",
    "Cust_Reg_df.head(10)"
   ]
  },
  {
   "cell_type": "code",
   "execution_count": null,
   "metadata": {},
   "outputs": [],
   "source": [
    "cur.execute(\"\"\"SELECT OrderId, ProductId, UnitPrice, Quantity, Discount,\n",
    "                City, Country, Region\n",
    "                FROM [OrderDetail] od\n",
    "                LEFT JOIN [Order] ob\n",
    "                ON od.OrderId = o.Id\n",
    "                LEFT JOIN Customer c\n",
    "                ON c.Id = o.CustomerId\"\"\");"
   ]
  },
  {
   "cell_type": "code",
   "execution_count": null,
   "metadata": {},
   "outputs": [],
   "source": [
    "cur.execute(\"\"\"SELECT OrderId, ProductId, UnitPrice, Quantity, Discount,\n",
    "                r.RegionDescription\n",
    "                FROM [OrderDetail] od\n",
    "                LEFT JOIN [Order] o\n",
    "                ON od.OrderId = o.Id\n",
    "                LEFT JOIN [Employee] e\n",
    "                ON e.Id = o.EmployeeId\n",
    "                LEFT JOIN [EmployeeTerritory] et\n",
    "                ON e.Id = et.EmployeeId\n",
    "                LEFT JOIN [Territory] t\n",
    "                ON t.Id = et.TerritoryId\n",
    "                LEFT JOIN [Region] r\n",
    "                ON r.Id = t.RegionId\"\"\");\n",
    "                      \n",
    "Cust_Reg_df = pd.DataFrame(cur.fetchall())\n",
    "Cust_Reg_df.columns = [i[0] for i in cur.description]\n",
    "print(len(Cust_Reg_df))\n",
    "Cust_Reg_df.head(10)"
   ]
  },
  {
   "cell_type": "code",
   "execution_count": null,
   "metadata": {},
   "outputs": [],
   "source": [
    "cur.execute(\"\"\"SELECT * FROM [Employee] \"\"\");\n",
    "                      \n",
    "df = pd.DataFrame(cur.fetchall())\n",
    "df.columns = [i[0] for i in cur.description]\n",
    "print(len(df))\n",
    "print(df.nunique())\n",
    "df.head()"
   ]
  },
  {
   "cell_type": "code",
   "execution_count": null,
   "metadata": {},
   "outputs": [],
   "source": [
    "cur.execute(\"\"\"SELECT * FROM [Order] \"\"\");\n",
    "                      \n",
    "df = pd.DataFrame(cur.fetchall())\n",
    "df.columns = [i[0] for i in cur.description]\n",
    "print(len(df))\n",
    "print(df.nunique())\n",
    "df.head()"
   ]
  },
  {
   "cell_type": "code",
   "execution_count": null,
   "metadata": {},
   "outputs": [],
   "source": [
    "cur.execute(\"\"\"SELECT OrderId, ProductId, UnitPrice, Quantity, Discount,\n",
    "                e.LastName, TerritoryId, TerritoryDescription,\n",
    "                r.RegionDescription\n",
    "                FROM [OrderDetail] od\n",
    "                LEFT JOIN [Order] o\n",
    "                ON od.OrderId = o.Id\n",
    "                LEFT JOIN [Employee] e\n",
    "                ON e.Id = o.EmployeeId\n",
    "                LEFT JOIN [EmployeeTerritory] et\n",
    "                ON e.Id = et.EmployeeId\n",
    "                LEFT JOIN [Territory] t\n",
    "                ON t.Id = et.TerritoryId\n",
    "                LEFT JOIN [Region] r\n",
    "                ON r.Id = t.RegionId\"\"\");\n",
    "                      \n",
    "Cust_Reg_df = pd.DataFrame(cur.fetchall())\n",
    "Cust_Reg_df.columns = [i[0] for i in cur.description]\n",
    "print(len(Cust_Reg_df))\n",
    "Cust_Reg_df.head(10)"
   ]
  },
  {
   "cell_type": "code",
   "execution_count": null,
   "metadata": {},
   "outputs": [],
   "source": [
    "# Notice that each line in the order is repeated multiple times. Employee has mulitple territories - \n",
    "#   we can't determine the unique territory based on employee id"
   ]
  }
 ],
 "metadata": {
  "kernelspec": {
   "display_name": "Python 3",
   "language": "python",
   "name": "python3"
  },
  "language_info": {
   "codemirror_mode": {
    "name": "ipython",
    "version": 3
   },
   "file_extension": ".py",
   "mimetype": "text/x-python",
   "name": "python",
   "nbconvert_exporter": "python",
   "pygments_lexer": "ipython3",
   "version": "3.6.8"
  }
 },
 "nbformat": 4,
 "nbformat_minor": 2
}
